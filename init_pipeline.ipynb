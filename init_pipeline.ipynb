{
 "cells": [
  {
   "cell_type": "code",
   "execution_count": 1,
   "metadata": {
    "collapsed": true
   },
   "outputs": [],
   "source": [
    "import numpy as np\n",
    "import pandas as pd\n",
    "import re\n",
    "import ast"
   ]
  },
  {
   "cell_type": "code",
   "execution_count": 2,
   "outputs": [],
   "source": [
    "# Change the file path for the file movie.metadata.tsv\n",
    "file_path = \"movie.metadata.tsv\""
   ],
   "metadata": {
    "collapsed": false
   }
  },
  {
   "cell_type": "code",
   "execution_count": 3,
   "outputs": [
    {
     "data": {
      "text/plain": "   Wikipedia movie ID Freebase_movie_ID  \\\n0              975900         /m/03vyhn   \n1             3196793         /m/08yl5d   \n2            28463795        /m/0crgdbh   \n3             9363483        /m/0285_cd   \n4              261236         /m/01mrr1   \n\n                                          Movie_name Movie_release_date  \\\n0                                     Ghosts of Mars         2001-08-24   \n1  Getting Away with Murder: The JonBenét Ramsey ...         2000-02-16   \n2                                        Brun bitter               1988   \n3                                   White Of The Eye               1987   \n4                                  A Woman in Flames               1983   \n\n   Movie_box_office_revenue  Movie_runtime  \\\n0                14010832.0           98.0   \n1                       NaN           95.0   \n2                       NaN           83.0   \n3                       NaN          110.0   \n4                       NaN          106.0   \n\n                      Movie_languages  \\\n0  {\"/m/02h40lc\": \"English Language\"}   \n1  {\"/m/02h40lc\": \"English Language\"}   \n2  {\"/m/05f_3\": \"Norwegian Language\"}   \n3  {\"/m/02h40lc\": \"English Language\"}   \n4   {\"/m/04306rv\": \"German Language\"}   \n\n                             Movie_countries  \\\n0  {\"/m/09c7w0\": \"United States of America\"}   \n1  {\"/m/09c7w0\": \"United States of America\"}   \n2                     {\"/m/05b4w\": \"Norway\"}   \n3             {\"/m/07ssc\": \"United Kingdom\"}   \n4                    {\"/m/0345h\": \"Germany\"}   \n\n                                        Movie_genres  \n0  {\"/m/01jfsb\": \"Thriller\", \"/m/06n90\": \"Science...  \n1  {\"/m/02n4kr\": \"Mystery\", \"/m/03bxz7\": \"Biograp...  \n2  {\"/m/0lsxr\": \"Crime Fiction\", \"/m/07s9rl0\": \"D...  \n3  {\"/m/01jfsb\": \"Thriller\", \"/m/0glj9q\": \"Erotic...  \n4                            {\"/m/07s9rl0\": \"Drama\"}  ",
      "text/html": "<div>\n<style scoped>\n    .dataframe tbody tr th:only-of-type {\n        vertical-align: middle;\n    }\n\n    .dataframe tbody tr th {\n        vertical-align: top;\n    }\n\n    .dataframe thead th {\n        text-align: right;\n    }\n</style>\n<table border=\"1\" class=\"dataframe\">\n  <thead>\n    <tr style=\"text-align: right;\">\n      <th></th>\n      <th>Wikipedia movie ID</th>\n      <th>Freebase_movie_ID</th>\n      <th>Movie_name</th>\n      <th>Movie_release_date</th>\n      <th>Movie_box_office_revenue</th>\n      <th>Movie_runtime</th>\n      <th>Movie_languages</th>\n      <th>Movie_countries</th>\n      <th>Movie_genres</th>\n    </tr>\n  </thead>\n  <tbody>\n    <tr>\n      <th>0</th>\n      <td>975900</td>\n      <td>/m/03vyhn</td>\n      <td>Ghosts of Mars</td>\n      <td>2001-08-24</td>\n      <td>14010832.0</td>\n      <td>98.0</td>\n      <td>{\"/m/02h40lc\": \"English Language\"}</td>\n      <td>{\"/m/09c7w0\": \"United States of America\"}</td>\n      <td>{\"/m/01jfsb\": \"Thriller\", \"/m/06n90\": \"Science...</td>\n    </tr>\n    <tr>\n      <th>1</th>\n      <td>3196793</td>\n      <td>/m/08yl5d</td>\n      <td>Getting Away with Murder: The JonBenét Ramsey ...</td>\n      <td>2000-02-16</td>\n      <td>NaN</td>\n      <td>95.0</td>\n      <td>{\"/m/02h40lc\": \"English Language\"}</td>\n      <td>{\"/m/09c7w0\": \"United States of America\"}</td>\n      <td>{\"/m/02n4kr\": \"Mystery\", \"/m/03bxz7\": \"Biograp...</td>\n    </tr>\n    <tr>\n      <th>2</th>\n      <td>28463795</td>\n      <td>/m/0crgdbh</td>\n      <td>Brun bitter</td>\n      <td>1988</td>\n      <td>NaN</td>\n      <td>83.0</td>\n      <td>{\"/m/05f_3\": \"Norwegian Language\"}</td>\n      <td>{\"/m/05b4w\": \"Norway\"}</td>\n      <td>{\"/m/0lsxr\": \"Crime Fiction\", \"/m/07s9rl0\": \"D...</td>\n    </tr>\n    <tr>\n      <th>3</th>\n      <td>9363483</td>\n      <td>/m/0285_cd</td>\n      <td>White Of The Eye</td>\n      <td>1987</td>\n      <td>NaN</td>\n      <td>110.0</td>\n      <td>{\"/m/02h40lc\": \"English Language\"}</td>\n      <td>{\"/m/07ssc\": \"United Kingdom\"}</td>\n      <td>{\"/m/01jfsb\": \"Thriller\", \"/m/0glj9q\": \"Erotic...</td>\n    </tr>\n    <tr>\n      <th>4</th>\n      <td>261236</td>\n      <td>/m/01mrr1</td>\n      <td>A Woman in Flames</td>\n      <td>1983</td>\n      <td>NaN</td>\n      <td>106.0</td>\n      <td>{\"/m/04306rv\": \"German Language\"}</td>\n      <td>{\"/m/0345h\": \"Germany\"}</td>\n      <td>{\"/m/07s9rl0\": \"Drama\"}</td>\n    </tr>\n  </tbody>\n</table>\n</div>"
     },
     "execution_count": 3,
     "metadata": {},
     "output_type": "execute_result"
    }
   ],
   "source": [
    "# Reading the file into a pandas dataframe\n",
    "movie_summaries = pd.read_csv(file_path, sep=\"\\t\", header=None)\n",
    "movie_summaries.columns = [\"Wikipedia movie ID\",\n",
    " \"Freebase_movie_ID\",\n",
    " \"Movie_name\",\n",
    " \"Movie_release_date\",\n",
    " \"Movie_box_office_revenue\",\n",
    " \"Movie_runtime\",\n",
    " \"Movie_languages\",\n",
    " \"Movie_countries\",\n",
    " \"Movie_genres\"]\n",
    "movie_summaries.head()"
   ],
   "metadata": {
    "collapsed": false
   }
  },
  {
   "cell_type": "code",
   "execution_count": 4,
   "outputs": [],
   "source": [
    "# Remove prefix '/m/'\n",
    "movie_summaries['Freebase_movie_ID'] = movie_summaries['Freebase_movie_ID'].str.replace('/m/', '')"
   ],
   "metadata": {
    "collapsed": false
   }
  },
  {
   "cell_type": "code",
   "execution_count": 5,
   "outputs": [],
   "source": [
    "# Create new columns for languages, countries and genres\n",
    "# The data type of the new columns is list containing all possible values\n",
    "# Only take the values into account for now,\n",
    "# If we need the code for further analysis, just apply x.keys() instead of x.values()\n",
    "\n",
    "movie_summaries['Movie_languages_clean'] = movie_summaries['Movie_languages'].apply(ast.literal_eval).apply(lambda x: list(x.values()))\n",
    "movie_summaries['Movie_countries_clean'] = movie_summaries['Movie_countries'].apply(ast.literal_eval).apply(lambda x: list(x.values()))\n",
    "movie_summaries['Movie_genres_clean'] = movie_summaries['Movie_genres'].apply(ast.literal_eval).apply(lambda x: list(x.values()))"
   ],
   "metadata": {
    "collapsed": false
   }
  },
  {
   "cell_type": "code",
   "execution_count": 6,
   "outputs": [],
   "source": [
    "# Extract the release year\n",
    "# This column only contains the years\n",
    "movie_summaries['Movie_release_year'] = movie_summaries['Movie_release_date'].str.extract(r'(\\d{4})')\n",
    "\n",
    "# Convert strings to datetime values if there are\n",
    "# For the rows with only years, the value is replaced by NaT\n",
    "movie_summaries['Movie_release_date_datetime'] = pd.to_datetime(movie_summaries['Movie_release_date'], errors='coerce')"
   ],
   "metadata": {
    "collapsed": false
   }
  },
  {
   "cell_type": "code",
   "execution_count": 7,
   "outputs": [
    {
     "data": {
      "text/plain": "   Wikipedia movie ID Freebase_movie_ID  \\\n0              975900            03vyhn   \n1             3196793            08yl5d   \n2            28463795           0crgdbh   \n3             9363483           0285_cd   \n4              261236            01mrr1   \n\n                                          Movie_name Movie_release_date  \\\n0                                     Ghosts of Mars         2001-08-24   \n1  Getting Away with Murder: The JonBenét Ramsey ...         2000-02-16   \n2                                        Brun bitter               1988   \n3                                   White Of The Eye               1987   \n4                                  A Woman in Flames               1983   \n\n   Movie_box_office_revenue  Movie_runtime  \\\n0                14010832.0           98.0   \n1                       NaN           95.0   \n2                       NaN           83.0   \n3                       NaN          110.0   \n4                       NaN          106.0   \n\n                      Movie_languages  \\\n0  {\"/m/02h40lc\": \"English Language\"}   \n1  {\"/m/02h40lc\": \"English Language\"}   \n2  {\"/m/05f_3\": \"Norwegian Language\"}   \n3  {\"/m/02h40lc\": \"English Language\"}   \n4   {\"/m/04306rv\": \"German Language\"}   \n\n                             Movie_countries  \\\n0  {\"/m/09c7w0\": \"United States of America\"}   \n1  {\"/m/09c7w0\": \"United States of America\"}   \n2                     {\"/m/05b4w\": \"Norway\"}   \n3             {\"/m/07ssc\": \"United Kingdom\"}   \n4                    {\"/m/0345h\": \"Germany\"}   \n\n                                        Movie_genres Movie_languages_clean  \\\n0  {\"/m/01jfsb\": \"Thriller\", \"/m/06n90\": \"Science...    [English Language]   \n1  {\"/m/02n4kr\": \"Mystery\", \"/m/03bxz7\": \"Biograp...    [English Language]   \n2  {\"/m/0lsxr\": \"Crime Fiction\", \"/m/07s9rl0\": \"D...  [Norwegian Language]   \n3  {\"/m/01jfsb\": \"Thriller\", \"/m/0glj9q\": \"Erotic...    [English Language]   \n4                            {\"/m/07s9rl0\": \"Drama\"}     [German Language]   \n\n        Movie_countries_clean  \\\n0  [United States of America]   \n1  [United States of America]   \n2                    [Norway]   \n3            [United Kingdom]   \n4                   [Germany]   \n\n                                  Movie_genres_clean Movie_release_year  \\\n0  [Thriller, Science Fiction, Horror, Adventure,...               2001   \n1   [Mystery, Biographical film, Drama, Crime Drama]               2000   \n2                             [Crime Fiction, Drama]               1988   \n3  [Thriller, Erotic thriller, Psychological thri...               1987   \n4                                            [Drama]               1983   \n\n  Movie_release_date_datetime  \n0                  2001-08-24  \n1                  2000-02-16  \n2                         NaT  \n3                         NaT  \n4                         NaT  ",
      "text/html": "<div>\n<style scoped>\n    .dataframe tbody tr th:only-of-type {\n        vertical-align: middle;\n    }\n\n    .dataframe tbody tr th {\n        vertical-align: top;\n    }\n\n    .dataframe thead th {\n        text-align: right;\n    }\n</style>\n<table border=\"1\" class=\"dataframe\">\n  <thead>\n    <tr style=\"text-align: right;\">\n      <th></th>\n      <th>Wikipedia movie ID</th>\n      <th>Freebase_movie_ID</th>\n      <th>Movie_name</th>\n      <th>Movie_release_date</th>\n      <th>Movie_box_office_revenue</th>\n      <th>Movie_runtime</th>\n      <th>Movie_languages</th>\n      <th>Movie_countries</th>\n      <th>Movie_genres</th>\n      <th>Movie_languages_clean</th>\n      <th>Movie_countries_clean</th>\n      <th>Movie_genres_clean</th>\n      <th>Movie_release_year</th>\n      <th>Movie_release_date_datetime</th>\n    </tr>\n  </thead>\n  <tbody>\n    <tr>\n      <th>0</th>\n      <td>975900</td>\n      <td>03vyhn</td>\n      <td>Ghosts of Mars</td>\n      <td>2001-08-24</td>\n      <td>14010832.0</td>\n      <td>98.0</td>\n      <td>{\"/m/02h40lc\": \"English Language\"}</td>\n      <td>{\"/m/09c7w0\": \"United States of America\"}</td>\n      <td>{\"/m/01jfsb\": \"Thriller\", \"/m/06n90\": \"Science...</td>\n      <td>[English Language]</td>\n      <td>[United States of America]</td>\n      <td>[Thriller, Science Fiction, Horror, Adventure,...</td>\n      <td>2001</td>\n      <td>2001-08-24</td>\n    </tr>\n    <tr>\n      <th>1</th>\n      <td>3196793</td>\n      <td>08yl5d</td>\n      <td>Getting Away with Murder: The JonBenét Ramsey ...</td>\n      <td>2000-02-16</td>\n      <td>NaN</td>\n      <td>95.0</td>\n      <td>{\"/m/02h40lc\": \"English Language\"}</td>\n      <td>{\"/m/09c7w0\": \"United States of America\"}</td>\n      <td>{\"/m/02n4kr\": \"Mystery\", \"/m/03bxz7\": \"Biograp...</td>\n      <td>[English Language]</td>\n      <td>[United States of America]</td>\n      <td>[Mystery, Biographical film, Drama, Crime Drama]</td>\n      <td>2000</td>\n      <td>2000-02-16</td>\n    </tr>\n    <tr>\n      <th>2</th>\n      <td>28463795</td>\n      <td>0crgdbh</td>\n      <td>Brun bitter</td>\n      <td>1988</td>\n      <td>NaN</td>\n      <td>83.0</td>\n      <td>{\"/m/05f_3\": \"Norwegian Language\"}</td>\n      <td>{\"/m/05b4w\": \"Norway\"}</td>\n      <td>{\"/m/0lsxr\": \"Crime Fiction\", \"/m/07s9rl0\": \"D...</td>\n      <td>[Norwegian Language]</td>\n      <td>[Norway]</td>\n      <td>[Crime Fiction, Drama]</td>\n      <td>1988</td>\n      <td>NaT</td>\n    </tr>\n    <tr>\n      <th>3</th>\n      <td>9363483</td>\n      <td>0285_cd</td>\n      <td>White Of The Eye</td>\n      <td>1987</td>\n      <td>NaN</td>\n      <td>110.0</td>\n      <td>{\"/m/02h40lc\": \"English Language\"}</td>\n      <td>{\"/m/07ssc\": \"United Kingdom\"}</td>\n      <td>{\"/m/01jfsb\": \"Thriller\", \"/m/0glj9q\": \"Erotic...</td>\n      <td>[English Language]</td>\n      <td>[United Kingdom]</td>\n      <td>[Thriller, Erotic thriller, Psychological thri...</td>\n      <td>1987</td>\n      <td>NaT</td>\n    </tr>\n    <tr>\n      <th>4</th>\n      <td>261236</td>\n      <td>01mrr1</td>\n      <td>A Woman in Flames</td>\n      <td>1983</td>\n      <td>NaN</td>\n      <td>106.0</td>\n      <td>{\"/m/04306rv\": \"German Language\"}</td>\n      <td>{\"/m/0345h\": \"Germany\"}</td>\n      <td>{\"/m/07s9rl0\": \"Drama\"}</td>\n      <td>[German Language]</td>\n      <td>[Germany]</td>\n      <td>[Drama]</td>\n      <td>1983</td>\n      <td>NaT</td>\n    </tr>\n  </tbody>\n</table>\n</div>"
     },
     "execution_count": 7,
     "metadata": {},
     "output_type": "execute_result"
    }
   ],
   "source": [
    "movie_summaries.head()"
   ],
   "metadata": {
    "collapsed": false
   }
  }
 ],
 "metadata": {
  "kernelspec": {
   "display_name": "Python 3",
   "language": "python",
   "name": "python3"
  },
  "language_info": {
   "codemirror_mode": {
    "name": "ipython",
    "version": 2
   },
   "file_extension": ".py",
   "mimetype": "text/x-python",
   "name": "python",
   "nbconvert_exporter": "python",
   "pygments_lexer": "ipython2",
   "version": "2.7.6"
  }
 },
 "nbformat": 4,
 "nbformat_minor": 0
}
