{
 "cells": [
  {
   "cell_type": "code",
   "execution_count": 1,
   "id": "66b46ee3-1b30-4db7-a85d-cf0e980173de",
   "metadata": {
    "tags": []
   },
   "outputs": [],
   "source": [
    "import pandas as pd\n"
   ]
  },
  {
   "cell_type": "code",
   "execution_count": 2,
   "id": "c52972db-0840-41ce-9c73-ffab4c101d15",
   "metadata": {
    "tags": []
   },
   "outputs": [
    {
     "data": {
      "text/html": [
       "<div>\n",
       "<style scoped>\n",
       "    .dataframe tbody tr th:only-of-type {\n",
       "        vertical-align: middle;\n",
       "    }\n",
       "\n",
       "    .dataframe tbody tr th {\n",
       "        vertical-align: top;\n",
       "    }\n",
       "\n",
       "    .dataframe thead th {\n",
       "        text-align: right;\n",
       "    }\n",
       "</style>\n",
       "<table border=\"1\" class=\"dataframe\">\n",
       "  <thead>\n",
       "    <tr style=\"text-align: right;\">\n",
       "      <th></th>\n",
       "      <th>date</th>\n",
       "      <th>title</th>\n",
       "      <th>revenue</th>\n",
       "      <th>theaters</th>\n",
       "      <th>distributor</th>\n",
       "    </tr>\n",
       "    <tr>\n",
       "      <th>id</th>\n",
       "      <th></th>\n",
       "      <th></th>\n",
       "      <th></th>\n",
       "      <th></th>\n",
       "      <th></th>\n",
       "    </tr>\n",
       "  </thead>\n",
       "  <tbody>\n",
       "    <tr>\n",
       "      <th>aa4ae6c8-451a-dc87-7390-14c510ef268a</th>\n",
       "      <td>2012-09-05</td>\n",
       "      <td>Ruby Sparks</td>\n",
       "      <td>6873</td>\n",
       "      <td>78.0</td>\n",
       "      <td>Fox Searchlight Pictures</td>\n",
       "    </tr>\n",
       "    <tr>\n",
       "      <th>c455b726-b014-90d6-2fc6-a6a6579cd9f5</th>\n",
       "      <td>2012-09-05</td>\n",
       "      <td>Joker</td>\n",
       "      <td>5433</td>\n",
       "      <td>74.0</td>\n",
       "      <td>UTV Motion Pictures</td>\n",
       "    </tr>\n",
       "    <tr>\n",
       "      <th>a2506b6a-c5e4-ea5d-e2b3-28c39c6aff9c</th>\n",
       "      <td>2012-09-05</td>\n",
       "      <td>Savages</td>\n",
       "      <td>4920</td>\n",
       "      <td>82.0</td>\n",
       "      <td>Universal Pictures</td>\n",
       "    </tr>\n",
       "    <tr>\n",
       "      <th>a91e2ce6-1dbf-0e7b-620f-f50070fef237</th>\n",
       "      <td>2012-09-05</td>\n",
       "      <td>Prometheus</td>\n",
       "      <td>4397</td>\n",
       "      <td>55.0</td>\n",
       "      <td>Twentieth Century Fox</td>\n",
       "    </tr>\n",
       "    <tr>\n",
       "      <th>6b036d78-4bb4-12bd-afcd-0abf12636d06</th>\n",
       "      <td>2012-09-05</td>\n",
       "      <td>Born to Be Wild</td>\n",
       "      <td>3719</td>\n",
       "      <td>33.0</td>\n",
       "      <td>Warner Bros.</td>\n",
       "    </tr>\n",
       "  </tbody>\n",
       "</table>\n",
       "</div>"
      ],
      "text/plain": [
       "                                           date            title  revenue  \\\n",
       "id                                                                          \n",
       "aa4ae6c8-451a-dc87-7390-14c510ef268a 2012-09-05      Ruby Sparks     6873   \n",
       "c455b726-b014-90d6-2fc6-a6a6579cd9f5 2012-09-05            Joker     5433   \n",
       "a2506b6a-c5e4-ea5d-e2b3-28c39c6aff9c 2012-09-05          Savages     4920   \n",
       "a91e2ce6-1dbf-0e7b-620f-f50070fef237 2012-09-05       Prometheus     4397   \n",
       "6b036d78-4bb4-12bd-afcd-0abf12636d06 2012-09-05  Born to Be Wild     3719   \n",
       "\n",
       "                                      theaters               distributor  \n",
       "id                                                                        \n",
       "aa4ae6c8-451a-dc87-7390-14c510ef268a      78.0  Fox Searchlight Pictures  \n",
       "c455b726-b014-90d6-2fc6-a6a6579cd9f5      74.0       UTV Motion Pictures  \n",
       "a2506b6a-c5e4-ea5d-e2b3-28c39c6aff9c      82.0        Universal Pictures  \n",
       "a91e2ce6-1dbf-0e7b-620f-f50070fef237      55.0     Twentieth Century Fox  \n",
       "6b036d78-4bb4-12bd-afcd-0abf12636d06      33.0              Warner Bros.  "
      ]
     },
     "execution_count": 2,
     "metadata": {},
     "output_type": "execute_result"
    }
   ],
   "source": [
    "url = 'https://github.com/tjwaterman99/boxofficemojo-scraper/releases/latest/download/revenues_per_day.csv.gz'\n",
    "df = pd.read_csv(url, parse_dates=['date'], index_col='id')\n",
    "df.head()"
   ]
  },
  {
   "cell_type": "code",
   "execution_count": 3,
   "id": "0348ca43-26f5-4d41-8385-a35ebfe36945",
   "metadata": {
    "tags": []
   },
   "outputs": [
    {
     "data": {
      "text/plain": [
       "Index(['date', 'title', 'revenue', 'theaters', 'distributor'], dtype='object')"
      ]
     },
     "execution_count": 3,
     "metadata": {},
     "output_type": "execute_result"
    }
   ],
   "source": [
    "df.keys()"
   ]
  },
  {
   "cell_type": "code",
   "execution_count": 4,
   "id": "04d5b514-16e4-4115-b020-1ae76b2c6208",
   "metadata": {
    "tags": []
   },
   "outputs": [
    {
     "name": "stdout",
     "output_type": "stream",
     "text": [
      "Smallest Date: 2000-01-01 00:00:00\n",
      "Largest Date: 2023-11-11 00:00:00\n"
     ]
    }
   ],
   "source": [
    "# Sort DataFrame by date\n",
    "df = df.sort_values(by='date')\n",
    "\n",
    "# Print the smallest and largest dates\n",
    "print(\"Smallest Date:\", df['date'].min())\n",
    "print(\"Largest Date:\", df['date'].max())"
   ]
  },
  {
   "cell_type": "code",
   "execution_count": 17,
   "id": "114f7132-d215-4127-8517-7b0936e0027b",
   "metadata": {},
   "outputs": [],
   "source": [
    "import requests\n",
    "from bs4 import BeautifulSoup\n",
    "\n"
   ]
  },
  {
   "cell_type": "code",
   "execution_count": 21,
   "id": "36402ff7-b4ed-40b4-ba56-81f299b7ab02",
   "metadata": {
    "tags": []
   },
   "outputs": [],
   "source": [
    "def getData(year):\n",
    "    url = f'https://www.boxofficemojo.com/year/{year}/?sortDir=asc&sort=rank&grossesOption=totalGrosses'\n",
    "\n",
    "    # Send a GET request to the URL\n",
    "    response = requests.get(url)\n",
    "\n",
    "    df = pd.DataFrame()\n",
    "    # Check if the request was successful (status code 200)\n",
    "    if response.status_code == 200:\n",
    "        # Parse the HTML content of the page\n",
    "        soup = BeautifulSoup(response.content, 'html.parser')\n",
    "\n",
    "        # Extract relevant information (modify this based on the structure of the webpage)\n",
    "        # Example: Extracting movie titles\n",
    "        df['movie_titles'] = [title.text.strip() for title in soup.find_all('td', class_='a-text-left mojo-field-type-release mojo-cell-wide')]\n",
    "        df['movie_revenues'] = [title.text.strip() for title in soup.find_all('td', class_='a-text-right mojo-field-type-money mojo-estimatable')]\n",
    "\n",
    "    return df"
   ]
  },
  {
   "cell_type": "code",
   "execution_count": 24,
   "id": "fd7c2eeb-4087-4526-9b5f-550e7f725198",
   "metadata": {
    "tags": []
   },
   "outputs": [
    {
     "data": {
      "text/html": [
       "<div>\n",
       "<style scoped>\n",
       "    .dataframe tbody tr th:only-of-type {\n",
       "        vertical-align: middle;\n",
       "    }\n",
       "\n",
       "    .dataframe tbody tr th {\n",
       "        vertical-align: top;\n",
       "    }\n",
       "\n",
       "    .dataframe thead th {\n",
       "        text-align: right;\n",
       "    }\n",
       "</style>\n",
       "<table border=\"1\" class=\"dataframe\">\n",
       "  <thead>\n",
       "    <tr style=\"text-align: right;\">\n",
       "      <th></th>\n",
       "      <th>movie_titles</th>\n",
       "      <th>movie_revenues</th>\n",
       "    </tr>\n",
       "  </thead>\n",
       "  <tbody>\n",
       "    <tr>\n",
       "      <th>0</th>\n",
       "      <td>Bad Boys for Life</td>\n",
       "      <td>$206,305,244</td>\n",
       "    </tr>\n",
       "    <tr>\n",
       "      <th>1</th>\n",
       "      <td>Sonic the Hedgehog</td>\n",
       "      <td>$148,974,665</td>\n",
       "    </tr>\n",
       "    <tr>\n",
       "      <th>2</th>\n",
       "      <td>Birds of Prey</td>\n",
       "      <td>$84,158,461</td>\n",
       "    </tr>\n",
       "    <tr>\n",
       "      <th>3</th>\n",
       "      <td>Dolittle</td>\n",
       "      <td>$77,047,065</td>\n",
       "    </tr>\n",
       "    <tr>\n",
       "      <th>4</th>\n",
       "      <td>The Invisible Man</td>\n",
       "      <td>$70,410,000</td>\n",
       "    </tr>\n",
       "    <tr>\n",
       "      <th>...</th>\n",
       "      <td>...</td>\n",
       "      <td>...</td>\n",
       "    </tr>\n",
       "    <tr>\n",
       "      <th>195</th>\n",
       "      <td>Pray: The Story of Patrick Peyton</td>\n",
       "      <td>$72,347</td>\n",
       "    </tr>\n",
       "    <tr>\n",
       "      <th>196</th>\n",
       "      <td>Come and See2020 Re-release</td>\n",
       "      <td>$71,909</td>\n",
       "    </tr>\n",
       "    <tr>\n",
       "      <th>197</th>\n",
       "      <td>How to Build a Girl</td>\n",
       "      <td>$70,632</td>\n",
       "    </tr>\n",
       "    <tr>\n",
       "      <th>198</th>\n",
       "      <td>We Summon the Darkness</td>\n",
       "      <td>$60,794</td>\n",
       "    </tr>\n",
       "    <tr>\n",
       "      <th>199</th>\n",
       "      <td>My Brothers' Crossing</td>\n",
       "      <td>$59,395</td>\n",
       "    </tr>\n",
       "  </tbody>\n",
       "</table>\n",
       "<p>200 rows × 2 columns</p>\n",
       "</div>"
      ],
      "text/plain": [
       "                          movie_titles movie_revenues\n",
       "0                    Bad Boys for Life   $206,305,244\n",
       "1                   Sonic the Hedgehog   $148,974,665\n",
       "2                        Birds of Prey    $84,158,461\n",
       "3                             Dolittle    $77,047,065\n",
       "4                    The Invisible Man    $70,410,000\n",
       "..                                 ...            ...\n",
       "195  Pray: The Story of Patrick Peyton        $72,347\n",
       "196        Come and See2020 Re-release        $71,909\n",
       "197                How to Build a Girl        $70,632\n",
       "198             We Summon the Darkness        $60,794\n",
       "199              My Brothers' Crossing        $59,395\n",
       "\n",
       "[200 rows x 2 columns]"
      ]
     },
     "metadata": {},
     "output_type": "display_data"
    }
   ],
   "source": [
    "display(getData(2020))"
   ]
  },
  {
   "cell_type": "code",
   "execution_count": 38,
   "id": "0b6151e1-47e5-486d-aeb2-0c6bd1620a6f",
   "metadata": {
    "tags": []
   },
   "outputs": [],
   "source": [
    "df_all = pd.DataFrame()\n",
    "\n",
    "for i in range(1980, 2015):\n",
    "    temp = getData(i)\n",
    "    df_all = pd.concat([df_all, temp], ignore_index=True)"
   ]
  },
  {
   "cell_type": "code",
   "execution_count": 39,
   "id": "9dfd4d2c-2e4c-4a1a-8eb0-4faaf78c20ca",
   "metadata": {
    "tags": []
   },
   "outputs": [
    {
     "data": {
      "text/html": [
       "<div>\n",
       "<style scoped>\n",
       "    .dataframe tbody tr th:only-of-type {\n",
       "        vertical-align: middle;\n",
       "    }\n",
       "\n",
       "    .dataframe tbody tr th {\n",
       "        vertical-align: top;\n",
       "    }\n",
       "\n",
       "    .dataframe thead th {\n",
       "        text-align: right;\n",
       "    }\n",
       "</style>\n",
       "<table border=\"1\" class=\"dataframe\">\n",
       "  <thead>\n",
       "    <tr style=\"text-align: right;\">\n",
       "      <th></th>\n",
       "      <th>movie_titles</th>\n",
       "      <th>movie_revenues</th>\n",
       "    </tr>\n",
       "  </thead>\n",
       "  <tbody>\n",
       "    <tr>\n",
       "      <th>0</th>\n",
       "      <td>Star Wars: Episode V - The Empire Strikes Back</td>\n",
       "      <td>$209,398,025</td>\n",
       "    </tr>\n",
       "    <tr>\n",
       "      <th>1</th>\n",
       "      <td>9 to 5</td>\n",
       "      <td>$103,290,500</td>\n",
       "    </tr>\n",
       "    <tr>\n",
       "      <th>2</th>\n",
       "      <td>Stir Crazy</td>\n",
       "      <td>$101,300,000</td>\n",
       "    </tr>\n",
       "    <tr>\n",
       "      <th>3</th>\n",
       "      <td>Airplane!</td>\n",
       "      <td>$83,453,539</td>\n",
       "    </tr>\n",
       "    <tr>\n",
       "      <th>4</th>\n",
       "      <td>Any Which Way You Can</td>\n",
       "      <td>$70,687,344</td>\n",
       "    </tr>\n",
       "    <tr>\n",
       "      <th>...</th>\n",
       "      <td>...</td>\n",
       "      <td>...</td>\n",
       "    </tr>\n",
       "    <tr>\n",
       "      <th>6656</th>\n",
       "      <td>Pride</td>\n",
       "      <td>$1,446,634</td>\n",
       "    </tr>\n",
       "    <tr>\n",
       "      <th>6657</th>\n",
       "      <td>Two Days, One Night</td>\n",
       "      <td>$1,436,243</td>\n",
       "    </tr>\n",
       "    <tr>\n",
       "      <th>6658</th>\n",
       "      <td>Locke</td>\n",
       "      <td>$1,375,769</td>\n",
       "    </tr>\n",
       "    <tr>\n",
       "      <th>6659</th>\n",
       "      <td>Gimme Shelter</td>\n",
       "      <td>$1,359,910</td>\n",
       "    </tr>\n",
       "    <tr>\n",
       "      <th>6660</th>\n",
       "      <td>Force Majeure</td>\n",
       "      <td>$1,359,497</td>\n",
       "    </tr>\n",
       "  </tbody>\n",
       "</table>\n",
       "<p>6661 rows × 2 columns</p>\n",
       "</div>"
      ],
      "text/plain": [
       "                                        movie_titles movie_revenues\n",
       "0     Star Wars: Episode V - The Empire Strikes Back   $209,398,025\n",
       "1                                             9 to 5   $103,290,500\n",
       "2                                         Stir Crazy   $101,300,000\n",
       "3                                          Airplane!    $83,453,539\n",
       "4                              Any Which Way You Can    $70,687,344\n",
       "...                                              ...            ...\n",
       "6656                                           Pride     $1,446,634\n",
       "6657                             Two Days, One Night     $1,436,243\n",
       "6658                                           Locke     $1,375,769\n",
       "6659                                   Gimme Shelter     $1,359,910\n",
       "6660                                   Force Majeure     $1,359,497\n",
       "\n",
       "[6661 rows x 2 columns]"
      ]
     },
     "metadata": {},
     "output_type": "display_data"
    }
   ],
   "source": [
    "display(df_all)"
   ]
  },
  {
   "cell_type": "code",
   "execution_count": null,
   "id": "d3d60045-347a-4d71-ba76-da66de782536",
   "metadata": {},
   "outputs": [],
   "source": []
  }
 ],
 "metadata": {
  "kernelspec": {
   "display_name": "Python 3 (ipykernel)",
   "language": "python",
   "name": "python3"
  },
  "language_info": {
   "codemirror_mode": {
    "name": "ipython",
    "version": 3
   },
   "file_extension": ".py",
   "mimetype": "text/x-python",
   "name": "python",
   "nbconvert_exporter": "python",
   "pygments_lexer": "ipython3",
   "version": "3.11.4"
  }
 },
 "nbformat": 4,
 "nbformat_minor": 5
}
