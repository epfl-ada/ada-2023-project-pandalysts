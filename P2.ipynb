{
 "cells": [
  {
   "cell_type": "markdown",
   "metadata": {},
   "source": [
    "# The Effect of Languages on Movies: The Multi-Faceted Story of a Single Parameter"
   ]
  },
  {
   "cell_type": "markdown",
   "metadata": {},
   "source": [
    "## Data Preprocessing Pipeline\n",
    "- Clean up the prefix and suffix of some columns\n",
    "- Overview of data information, e.g. data type, missing data\n",
    "- Combine Mojo dataset with the original data to improve the situation with a lot of missing revenue data"
   ]
  },
  {
   "cell_type": "code",
   "execution_count": 1,
   "metadata": {
    "tags": []
   },
   "outputs": [],
   "source": [
    "import numpy as np\n",
    "import pandas as pd\n",
    "import re\n",
    "import ast\n",
    "import warnings\n",
    "import seaborn as sns\n",
    "import matplotlib.pyplot as plt\n",
    "from matplotlib.ticker import FuncFormatter\n",
    "warnings.filterwarnings('ignore')"
   ]
  },
  {
   "cell_type": "code",
   "execution_count": 2,
   "metadata": {
    "collapsed": false,
    "jupyter": {
     "outputs_hidden": false
    },
    "tags": []
   },
   "outputs": [],
   "source": [
    "# Change the file path for the file movie.metadata.tsv\n",
    "file_path = \"data/movie.metadata.tsv\""
   ]
  },
  {
   "cell_type": "code",
   "execution_count": 3,
   "metadata": {
    "collapsed": false,
    "jupyter": {
     "outputs_hidden": false
    },
    "tags": []
   },
   "outputs": [
    {
     "data": {
      "text/html": [
       "<div>\n",
       "<style scoped>\n",
       "    .dataframe tbody tr th:only-of-type {\n",
       "        vertical-align: middle;\n",
       "    }\n",
       "\n",
       "    .dataframe tbody tr th {\n",
       "        vertical-align: top;\n",
       "    }\n",
       "\n",
       "    .dataframe thead th {\n",
       "        text-align: right;\n",
       "    }\n",
       "</style>\n",
       "<table border=\"1\" class=\"dataframe\">\n",
       "  <thead>\n",
       "    <tr style=\"text-align: right;\">\n",
       "      <th></th>\n",
       "      <th>Wikipedia movie ID</th>\n",
       "      <th>Freebase_movie_ID</th>\n",
       "      <th>Movie_name</th>\n",
       "      <th>Movie_release_date</th>\n",
       "      <th>Movie_box_office_revenue</th>\n",
       "      <th>Movie_runtime</th>\n",
       "      <th>Movie_languages</th>\n",
       "      <th>Movie_countries</th>\n",
       "      <th>Movie_genres</th>\n",
       "    </tr>\n",
       "  </thead>\n",
       "  <tbody>\n",
       "    <tr>\n",
       "      <th>0</th>\n",
       "      <td>975900</td>\n",
       "      <td>/m/03vyhn</td>\n",
       "      <td>Ghosts of Mars</td>\n",
       "      <td>2001-08-24</td>\n",
       "      <td>14010832.0</td>\n",
       "      <td>98.0</td>\n",
       "      <td>{\"/m/02h40lc\": \"English Language\"}</td>\n",
       "      <td>{\"/m/09c7w0\": \"United States of America\"}</td>\n",
       "      <td>{\"/m/01jfsb\": \"Thriller\", \"/m/06n90\": \"Science...</td>\n",
       "    </tr>\n",
       "    <tr>\n",
       "      <th>1</th>\n",
       "      <td>3196793</td>\n",
       "      <td>/m/08yl5d</td>\n",
       "      <td>Getting Away with Murder: The JonBenét Ramsey ...</td>\n",
       "      <td>2000-02-16</td>\n",
       "      <td>NaN</td>\n",
       "      <td>95.0</td>\n",
       "      <td>{\"/m/02h40lc\": \"English Language\"}</td>\n",
       "      <td>{\"/m/09c7w0\": \"United States of America\"}</td>\n",
       "      <td>{\"/m/02n4kr\": \"Mystery\", \"/m/03bxz7\": \"Biograp...</td>\n",
       "    </tr>\n",
       "    <tr>\n",
       "      <th>2</th>\n",
       "      <td>28463795</td>\n",
       "      <td>/m/0crgdbh</td>\n",
       "      <td>Brun bitter</td>\n",
       "      <td>1988</td>\n",
       "      <td>NaN</td>\n",
       "      <td>83.0</td>\n",
       "      <td>{\"/m/05f_3\": \"Norwegian Language\"}</td>\n",
       "      <td>{\"/m/05b4w\": \"Norway\"}</td>\n",
       "      <td>{\"/m/0lsxr\": \"Crime Fiction\", \"/m/07s9rl0\": \"D...</td>\n",
       "    </tr>\n",
       "    <tr>\n",
       "      <th>3</th>\n",
       "      <td>9363483</td>\n",
       "      <td>/m/0285_cd</td>\n",
       "      <td>White Of The Eye</td>\n",
       "      <td>1987</td>\n",
       "      <td>NaN</td>\n",
       "      <td>110.0</td>\n",
       "      <td>{\"/m/02h40lc\": \"English Language\"}</td>\n",
       "      <td>{\"/m/07ssc\": \"United Kingdom\"}</td>\n",
       "      <td>{\"/m/01jfsb\": \"Thriller\", \"/m/0glj9q\": \"Erotic...</td>\n",
       "    </tr>\n",
       "    <tr>\n",
       "      <th>4</th>\n",
       "      <td>261236</td>\n",
       "      <td>/m/01mrr1</td>\n",
       "      <td>A Woman in Flames</td>\n",
       "      <td>1983</td>\n",
       "      <td>NaN</td>\n",
       "      <td>106.0</td>\n",
       "      <td>{\"/m/04306rv\": \"German Language\"}</td>\n",
       "      <td>{\"/m/0345h\": \"Germany\"}</td>\n",
       "      <td>{\"/m/07s9rl0\": \"Drama\"}</td>\n",
       "    </tr>\n",
       "  </tbody>\n",
       "</table>\n",
       "</div>"
      ],
      "text/plain": [
       "   Wikipedia movie ID Freebase_movie_ID  \\\n",
       "0              975900         /m/03vyhn   \n",
       "1             3196793         /m/08yl5d   \n",
       "2            28463795        /m/0crgdbh   \n",
       "3             9363483        /m/0285_cd   \n",
       "4              261236         /m/01mrr1   \n",
       "\n",
       "                                          Movie_name Movie_release_date  \\\n",
       "0                                     Ghosts of Mars         2001-08-24   \n",
       "1  Getting Away with Murder: The JonBenét Ramsey ...         2000-02-16   \n",
       "2                                        Brun bitter               1988   \n",
       "3                                   White Of The Eye               1987   \n",
       "4                                  A Woman in Flames               1983   \n",
       "\n",
       "   Movie_box_office_revenue  Movie_runtime  \\\n",
       "0                14010832.0           98.0   \n",
       "1                       NaN           95.0   \n",
       "2                       NaN           83.0   \n",
       "3                       NaN          110.0   \n",
       "4                       NaN          106.0   \n",
       "\n",
       "                      Movie_languages  \\\n",
       "0  {\"/m/02h40lc\": \"English Language\"}   \n",
       "1  {\"/m/02h40lc\": \"English Language\"}   \n",
       "2  {\"/m/05f_3\": \"Norwegian Language\"}   \n",
       "3  {\"/m/02h40lc\": \"English Language\"}   \n",
       "4   {\"/m/04306rv\": \"German Language\"}   \n",
       "\n",
       "                             Movie_countries  \\\n",
       "0  {\"/m/09c7w0\": \"United States of America\"}   \n",
       "1  {\"/m/09c7w0\": \"United States of America\"}   \n",
       "2                     {\"/m/05b4w\": \"Norway\"}   \n",
       "3             {\"/m/07ssc\": \"United Kingdom\"}   \n",
       "4                    {\"/m/0345h\": \"Germany\"}   \n",
       "\n",
       "                                        Movie_genres  \n",
       "0  {\"/m/01jfsb\": \"Thriller\", \"/m/06n90\": \"Science...  \n",
       "1  {\"/m/02n4kr\": \"Mystery\", \"/m/03bxz7\": \"Biograp...  \n",
       "2  {\"/m/0lsxr\": \"Crime Fiction\", \"/m/07s9rl0\": \"D...  \n",
       "3  {\"/m/01jfsb\": \"Thriller\", \"/m/0glj9q\": \"Erotic...  \n",
       "4                            {\"/m/07s9rl0\": \"Drama\"}  "
      ]
     },
     "execution_count": 3,
     "metadata": {},
     "output_type": "execute_result"
    }
   ],
   "source": [
    "# Reading the file into a pandas dataframe\n",
    "movie_summaries = pd.read_csv(file_path, sep=\"\\t\", header=None)\n",
    "movie_summaries.columns = [\"Wikipedia movie ID\",\n",
    " \"Freebase_movie_ID\",\n",
    " \"Movie_name\",\n",
    " \"Movie_release_date\",\n",
    " \"Movie_box_office_revenue\",\n",
    " \"Movie_runtime\",\n",
    " \"Movie_languages\",\n",
    " \"Movie_countries\",\n",
    " \"Movie_genres\"]\n",
    "movie_summaries.head()"
   ]
  },
  {
   "cell_type": "code",
   "execution_count": 4,
   "metadata": {
    "collapsed": false,
    "jupyter": {
     "outputs_hidden": false
    },
    "tags": []
   },
   "outputs": [],
   "source": [
    "# Remove prefix '/m/'\n",
    "movie_summaries['Freebase_movie_ID'] = movie_summaries['Freebase_movie_ID'].str.replace('/m/', '')"
   ]
  },
  {
   "cell_type": "code",
   "execution_count": 5,
   "metadata": {
    "collapsed": false,
    "jupyter": {
     "outputs_hidden": false
    },
    "tags": []
   },
   "outputs": [],
   "source": [
    "# Create new columns for languages, countries and genres\n",
    "# The data type of the new columns is list containing all possible values\n",
    "# Only take the values into account for now,\n",
    "# If we need the code for further analysis, just apply x.keys() instead of x.values()\n",
    "\n",
    "movie_summaries['Movie_languages_clean'] = movie_summaries['Movie_languages'].apply(ast.literal_eval).apply(lambda x: list(x.values()))\n",
    "movie_summaries['Movie_countries_clean'] = movie_summaries['Movie_countries'].apply(ast.literal_eval).apply(lambda x: list(x.values()))\n",
    "movie_summaries['Movie_genres_clean'] = movie_summaries['Movie_genres'].apply(ast.literal_eval).apply(lambda x: list(x.values()))"
   ]
  },
  {
   "cell_type": "code",
   "execution_count": 6,
   "metadata": {
    "collapsed": false,
    "jupyter": {
     "outputs_hidden": false
    },
    "tags": []
   },
   "outputs": [],
   "source": [
    "# Extract the release year\n",
    "# This column only contains the years\n",
    "movie_summaries['Movie_release_year'] = movie_summaries['Movie_release_date'].str.extract(r'(\\d{4})')\n",
    "\n",
    "# Convert strings to datetime values if there are\n",
    "# For the rows with only years, the value is replaced by NaT\n",
    "# pd.to_datetime has a bug if the format provided is more \"precise\" than what is in the dataframe, it has default values and will not\n",
    "# raise an error or replace with NaT\n",
    "# specifically %Y-%m-%d with year 2000 defaults to 2000-01-01, even with the exact=True argument.\n",
    "movie_summaries['Movie_release_date_datetime'] = movie_summaries['Movie_release_date'].astype('str').apply(\n",
    "        lambda x: pd.to_datetime(x if \"-\" in x else pd.NaT, errors=\"coerce\")\n",
    ")"
   ]
  },
  {
   "cell_type": "code",
   "execution_count": 7,
   "metadata": {
    "collapsed": false,
    "jupyter": {
     "outputs_hidden": false
    },
    "tags": []
   },
   "outputs": [
    {
     "data": {
      "text/html": [
       "<div>\n",
       "<style scoped>\n",
       "    .dataframe tbody tr th:only-of-type {\n",
       "        vertical-align: middle;\n",
       "    }\n",
       "\n",
       "    .dataframe tbody tr th {\n",
       "        vertical-align: top;\n",
       "    }\n",
       "\n",
       "    .dataframe thead th {\n",
       "        text-align: right;\n",
       "    }\n",
       "</style>\n",
       "<table border=\"1\" class=\"dataframe\">\n",
       "  <thead>\n",
       "    <tr style=\"text-align: right;\">\n",
       "      <th></th>\n",
       "      <th>Wikipedia movie ID</th>\n",
       "      <th>Freebase_movie_ID</th>\n",
       "      <th>Movie_name</th>\n",
       "      <th>Movie_release_date</th>\n",
       "      <th>Movie_box_office_revenue</th>\n",
       "      <th>Movie_runtime</th>\n",
       "      <th>Movie_languages</th>\n",
       "      <th>Movie_countries</th>\n",
       "      <th>Movie_genres</th>\n",
       "      <th>Movie_languages_clean</th>\n",
       "      <th>Movie_countries_clean</th>\n",
       "      <th>Movie_genres_clean</th>\n",
       "      <th>Movie_release_year</th>\n",
       "      <th>Movie_release_date_datetime</th>\n",
       "    </tr>\n",
       "  </thead>\n",
       "  <tbody>\n",
       "    <tr>\n",
       "      <th>0</th>\n",
       "      <td>975900</td>\n",
       "      <td>03vyhn</td>\n",
       "      <td>Ghosts of Mars</td>\n",
       "      <td>2001-08-24</td>\n",
       "      <td>14010832.0</td>\n",
       "      <td>98.0</td>\n",
       "      <td>{\"/m/02h40lc\": \"English Language\"}</td>\n",
       "      <td>{\"/m/09c7w0\": \"United States of America\"}</td>\n",
       "      <td>{\"/m/01jfsb\": \"Thriller\", \"/m/06n90\": \"Science...</td>\n",
       "      <td>[English Language]</td>\n",
       "      <td>[United States of America]</td>\n",
       "      <td>[Thriller, Science Fiction, Horror, Adventure,...</td>\n",
       "      <td>2001</td>\n",
       "      <td>2001-08-24</td>\n",
       "    </tr>\n",
       "    <tr>\n",
       "      <th>1</th>\n",
       "      <td>3196793</td>\n",
       "      <td>08yl5d</td>\n",
       "      <td>Getting Away with Murder: The JonBenét Ramsey ...</td>\n",
       "      <td>2000-02-16</td>\n",
       "      <td>NaN</td>\n",
       "      <td>95.0</td>\n",
       "      <td>{\"/m/02h40lc\": \"English Language\"}</td>\n",
       "      <td>{\"/m/09c7w0\": \"United States of America\"}</td>\n",
       "      <td>{\"/m/02n4kr\": \"Mystery\", \"/m/03bxz7\": \"Biograp...</td>\n",
       "      <td>[English Language]</td>\n",
       "      <td>[United States of America]</td>\n",
       "      <td>[Mystery, Biographical film, Drama, Crime Drama]</td>\n",
       "      <td>2000</td>\n",
       "      <td>2000-02-16</td>\n",
       "    </tr>\n",
       "    <tr>\n",
       "      <th>2</th>\n",
       "      <td>28463795</td>\n",
       "      <td>0crgdbh</td>\n",
       "      <td>Brun bitter</td>\n",
       "      <td>1988</td>\n",
       "      <td>NaN</td>\n",
       "      <td>83.0</td>\n",
       "      <td>{\"/m/05f_3\": \"Norwegian Language\"}</td>\n",
       "      <td>{\"/m/05b4w\": \"Norway\"}</td>\n",
       "      <td>{\"/m/0lsxr\": \"Crime Fiction\", \"/m/07s9rl0\": \"D...</td>\n",
       "      <td>[Norwegian Language]</td>\n",
       "      <td>[Norway]</td>\n",
       "      <td>[Crime Fiction, Drama]</td>\n",
       "      <td>1988</td>\n",
       "      <td>NaT</td>\n",
       "    </tr>\n",
       "    <tr>\n",
       "      <th>3</th>\n",
       "      <td>9363483</td>\n",
       "      <td>0285_cd</td>\n",
       "      <td>White Of The Eye</td>\n",
       "      <td>1987</td>\n",
       "      <td>NaN</td>\n",
       "      <td>110.0</td>\n",
       "      <td>{\"/m/02h40lc\": \"English Language\"}</td>\n",
       "      <td>{\"/m/07ssc\": \"United Kingdom\"}</td>\n",
       "      <td>{\"/m/01jfsb\": \"Thriller\", \"/m/0glj9q\": \"Erotic...</td>\n",
       "      <td>[English Language]</td>\n",
       "      <td>[United Kingdom]</td>\n",
       "      <td>[Thriller, Erotic thriller, Psychological thri...</td>\n",
       "      <td>1987</td>\n",
       "      <td>NaT</td>\n",
       "    </tr>\n",
       "    <tr>\n",
       "      <th>4</th>\n",
       "      <td>261236</td>\n",
       "      <td>01mrr1</td>\n",
       "      <td>A Woman in Flames</td>\n",
       "      <td>1983</td>\n",
       "      <td>NaN</td>\n",
       "      <td>106.0</td>\n",
       "      <td>{\"/m/04306rv\": \"German Language\"}</td>\n",
       "      <td>{\"/m/0345h\": \"Germany\"}</td>\n",
       "      <td>{\"/m/07s9rl0\": \"Drama\"}</td>\n",
       "      <td>[German Language]</td>\n",
       "      <td>[Germany]</td>\n",
       "      <td>[Drama]</td>\n",
       "      <td>1983</td>\n",
       "      <td>NaT</td>\n",
       "    </tr>\n",
       "  </tbody>\n",
       "</table>\n",
       "</div>"
      ],
      "text/plain": [
       "   Wikipedia movie ID Freebase_movie_ID  \\\n",
       "0              975900            03vyhn   \n",
       "1             3196793            08yl5d   \n",
       "2            28463795           0crgdbh   \n",
       "3             9363483           0285_cd   \n",
       "4              261236            01mrr1   \n",
       "\n",
       "                                          Movie_name Movie_release_date  \\\n",
       "0                                     Ghosts of Mars         2001-08-24   \n",
       "1  Getting Away with Murder: The JonBenét Ramsey ...         2000-02-16   \n",
       "2                                        Brun bitter               1988   \n",
       "3                                   White Of The Eye               1987   \n",
       "4                                  A Woman in Flames               1983   \n",
       "\n",
       "   Movie_box_office_revenue  Movie_runtime  \\\n",
       "0                14010832.0           98.0   \n",
       "1                       NaN           95.0   \n",
       "2                       NaN           83.0   \n",
       "3                       NaN          110.0   \n",
       "4                       NaN          106.0   \n",
       "\n",
       "                      Movie_languages  \\\n",
       "0  {\"/m/02h40lc\": \"English Language\"}   \n",
       "1  {\"/m/02h40lc\": \"English Language\"}   \n",
       "2  {\"/m/05f_3\": \"Norwegian Language\"}   \n",
       "3  {\"/m/02h40lc\": \"English Language\"}   \n",
       "4   {\"/m/04306rv\": \"German Language\"}   \n",
       "\n",
       "                             Movie_countries  \\\n",
       "0  {\"/m/09c7w0\": \"United States of America\"}   \n",
       "1  {\"/m/09c7w0\": \"United States of America\"}   \n",
       "2                     {\"/m/05b4w\": \"Norway\"}   \n",
       "3             {\"/m/07ssc\": \"United Kingdom\"}   \n",
       "4                    {\"/m/0345h\": \"Germany\"}   \n",
       "\n",
       "                                        Movie_genres Movie_languages_clean  \\\n",
       "0  {\"/m/01jfsb\": \"Thriller\", \"/m/06n90\": \"Science...    [English Language]   \n",
       "1  {\"/m/02n4kr\": \"Mystery\", \"/m/03bxz7\": \"Biograp...    [English Language]   \n",
       "2  {\"/m/0lsxr\": \"Crime Fiction\", \"/m/07s9rl0\": \"D...  [Norwegian Language]   \n",
       "3  {\"/m/01jfsb\": \"Thriller\", \"/m/0glj9q\": \"Erotic...    [English Language]   \n",
       "4                            {\"/m/07s9rl0\": \"Drama\"}     [German Language]   \n",
       "\n",
       "        Movie_countries_clean  \\\n",
       "0  [United States of America]   \n",
       "1  [United States of America]   \n",
       "2                    [Norway]   \n",
       "3            [United Kingdom]   \n",
       "4                   [Germany]   \n",
       "\n",
       "                                  Movie_genres_clean Movie_release_year  \\\n",
       "0  [Thriller, Science Fiction, Horror, Adventure,...               2001   \n",
       "1   [Mystery, Biographical film, Drama, Crime Drama]               2000   \n",
       "2                             [Crime Fiction, Drama]               1988   \n",
       "3  [Thriller, Erotic thriller, Psychological thri...               1987   \n",
       "4                                            [Drama]               1983   \n",
       "\n",
       "  Movie_release_date_datetime  \n",
       "0                  2001-08-24  \n",
       "1                  2000-02-16  \n",
       "2                         NaT  \n",
       "3                         NaT  \n",
       "4                         NaT  "
      ]
     },
     "execution_count": 7,
     "metadata": {},
     "output_type": "execute_result"
    }
   ],
   "source": [
    "movie_summaries.head()"
   ]
  },
  {
   "cell_type": "code",
   "execution_count": 8,
   "metadata": {
    "collapsed": false,
    "jupyter": {
     "outputs_hidden": false
    },
    "tags": []
   },
   "outputs": [],
   "source": [
    "# Add mojo box office dataset\n",
    "import requests\n",
    "from bs4 import BeautifulSoup"
   ]
  },
  {
   "cell_type": "code",
   "execution_count": 9,
   "metadata": {
    "collapsed": false,
    "jupyter": {
     "outputs_hidden": false
    },
    "tags": []
   },
   "outputs": [],
   "source": [
    "def getData(year):\n",
    "    url = f'https://www.boxofficemojo.com/year/{year}/?sortDir=asc&sort=rank&grossesOption=totalGrosses'\n",
    "\n",
    "    # Send a GET request to the URL\n",
    "    response = requests.get(url)\n",
    "\n",
    "    df = pd.DataFrame()\n",
    "    # Check if the request was successful (status code 200)\n",
    "    if response.status_code == 200:\n",
    "        # Parse the HTML content of the page\n",
    "        soup = BeautifulSoup(response.content, 'html.parser')\n",
    "\n",
    "        # Extract relevant information (modify this based on the structure of the webpage)\n",
    "        # Example: Extracting movie titles\n",
    "        df['movie_title'] = [title.text.strip() for title in soup.find_all('td', class_='a-text-left mojo-field-type-release mojo-cell-wide')]\n",
    "        df['movie_revenue'] = [title.text.strip() for title in soup.find_all('td', class_='a-text-right mojo-field-type-money mojo-estimatable')]\n",
    "\n",
    "\n",
    "    return df"
   ]
  },
  {
   "cell_type": "code",
   "execution_count": 10,
   "metadata": {
    "collapsed": false,
    "jupyter": {
     "outputs_hidden": false
    },
    "tags": []
   },
   "outputs": [
    {
     "data": {
      "text/html": [
       "<div>\n",
       "<style scoped>\n",
       "    .dataframe tbody tr th:only-of-type {\n",
       "        vertical-align: middle;\n",
       "    }\n",
       "\n",
       "    .dataframe tbody tr th {\n",
       "        vertical-align: top;\n",
       "    }\n",
       "\n",
       "    .dataframe thead th {\n",
       "        text-align: right;\n",
       "    }\n",
       "</style>\n",
       "<table border=\"1\" class=\"dataframe\">\n",
       "  <thead>\n",
       "    <tr style=\"text-align: right;\">\n",
       "      <th></th>\n",
       "      <th>movie_title</th>\n",
       "      <th>movie_revenue</th>\n",
       "    </tr>\n",
       "  </thead>\n",
       "  <tbody>\n",
       "    <tr>\n",
       "      <th>0</th>\n",
       "      <td>Star Wars: Episode IV - A New Hope</td>\n",
       "      <td>$307,263,857</td>\n",
       "    </tr>\n",
       "    <tr>\n",
       "      <th>1</th>\n",
       "      <td>Smokey and the Bandit</td>\n",
       "      <td>$126,737,428</td>\n",
       "    </tr>\n",
       "    <tr>\n",
       "      <th>2</th>\n",
       "      <td>Close Encounters of the Third Kind</td>\n",
       "      <td>$116,395,460</td>\n",
       "    </tr>\n",
       "    <tr>\n",
       "      <th>3</th>\n",
       "      <td>Saturday Night Fever</td>\n",
       "      <td>$94,213,184</td>\n",
       "    </tr>\n",
       "    <tr>\n",
       "      <th>4</th>\n",
       "      <td>A Bridge Too Far</td>\n",
       "      <td>$50,750,000</td>\n",
       "    </tr>\n",
       "  </tbody>\n",
       "</table>\n",
       "</div>"
      ],
      "text/plain": [
       "                          movie_title movie_revenue\n",
       "0  Star Wars: Episode IV - A New Hope  $307,263,857\n",
       "1               Smokey and the Bandit  $126,737,428\n",
       "2  Close Encounters of the Third Kind  $116,395,460\n",
       "3                Saturday Night Fever   $94,213,184\n",
       "4                    A Bridge Too Far   $50,750,000"
      ]
     },
     "execution_count": 10,
     "metadata": {},
     "output_type": "execute_result"
    }
   ],
   "source": [
    "# Reading the file into a pandas dataframe\n",
    "df_all = pd.read_csv('mojo_data.csv', header=None)\n",
    "df_all.columns = [\"movie_title\", \"movie_revenue\"]\n",
    "df_all.head()"
   ]
  },
  {
   "cell_type": "code",
   "execution_count": 11,
   "metadata": {
    "collapsed": false,
    "jupyter": {
     "outputs_hidden": false
    },
    "tags": []
   },
   "outputs": [],
   "source": [
    "# We can just always consider the original dataset, and replace the missing revenues with the ones from the Mojo dateset\n",
    "\n",
    "# Drop duplicate movies, based on name only\n",
    "df_all = df_all.drop_duplicates(subset=['movie_title'])\n",
    "movie_summaries = movie_summaries.drop_duplicates(subset=['Movie_name'])\n",
    "# Merge dataframes based on the movie name, left join so we keep all of the original data\n",
    "merged_df = pd.merge(movie_summaries, df_all, right_on='movie_title', left_on='Movie_name', how='left')\n",
    "\n",
    "# Drop the extra column (either 'movie_title' or 'Movie_name') if needed\n",
    "# merged_df = merged_df.drop('movie_title', axis=1)\n",
    "\n",
    "# Cleaning up the revenues\n",
    "\n",
    "# Remove the dollar sign and commas\n",
    "merged_df['movie_revenue'] = merged_df['movie_revenue'].astype(str).str.replace('$', '').str.replace(',', '')\n",
    "\n",
    "# Convert the column to floats\n",
    "merged_df['movie_revenue'] = merged_df['movie_revenue'].astype(float)\n",
    "\n",
    "# Create a boolean mask for rows where movie_revenue is NaN and gross_revenue is not NaN\n",
    "mask = (pd.isna(merged_df['Movie_box_office_revenue'])) & (~pd.isna(merged_df['movie_revenue']))\n",
    "\n",
    "# Replace missing values in Movie_box_office_revenue with movie_revenue\n",
    "merged_df.loc[mask, 'Movie_box_office_revenue'] = merged_df.loc[mask, 'movie_revenue']"
   ]
  },
  {
   "cell_type": "code",
   "execution_count": 12,
   "metadata": {},
   "outputs": [],
   "source": [
    "#Adding the Budget dataset"
   ]
  },
  {
   "cell_type": "code",
   "execution_count": 13,
   "metadata": {},
   "outputs": [],
   "source": [
    "budget_path= \"https://drive.google.com/uc?id=\" + \"https://drive.google.com/file/d/1P6utrC8Hjxh4HJ3q8GQZwXMOmDmhwFzS/view?usp=sharing\".split(\"/\")[-2]\n",
    "\n",
    "budget = pd.read_csv(\n",
    "    budget_path, usecols=[\"id\", \"budget\", \"original_title\", \"release_date\", \"runtime\"]\n",
    ")\n",
    "\n",
    "#Conversion to datetime\n",
    "budget[\"Movie_release_year\"] = pd.to_datetime(\n",
    "    budget[\"release_date\"], infer_datetime_format=True, errors=\"coerce\"\n",
    ").dt.year\n",
    "\n",
    "#renaming for column matching in the merge\n",
    "budget = budget.rename(\n",
    "    columns={\"original_title\": \"Movie_name\", \"runtime\": \"Movie_runtime\"}\n",
    ")\n",
    "\n",
    "# converting '\\\\N' values to np.nan\n",
    "budget.loc[budget[\"Movie_release_year\"] == \"\\\\N\", \"Movie_release_year\"] = np.nan\n",
    "budget.loc[budget[\"Movie_runtime\"] == \"\\\\N\", \"Movie_runtime\"] = np.nan\n",
    "\n",
    "#removing the rows with nan\n",
    "budget = budget[budget[\"Movie_release_year\"].notna()]\n",
    "\n",
    "# converting release year to 'int64'\n",
    "budget[\"Movie_release_year\"] = budget[\"Movie_release_year\"].astype(\"int64\", errors=\"ignore\")\n",
    "\n",
    "# converting runtime to 'float64'\n",
    "budget[\"Movie_runtime\"] = budget[\"Movie_runtime\"].astype(\"float64\")"
   ]
  },
  {
   "cell_type": "code",
   "execution_count": 14,
   "metadata": {},
   "outputs": [
    {
     "data": {
      "text/html": [
       "<div>\n",
       "<style scoped>\n",
       "    .dataframe tbody tr th:only-of-type {\n",
       "        vertical-align: middle;\n",
       "    }\n",
       "\n",
       "    .dataframe tbody tr th {\n",
       "        vertical-align: top;\n",
       "    }\n",
       "\n",
       "    .dataframe thead th {\n",
       "        text-align: right;\n",
       "    }\n",
       "</style>\n",
       "<table border=\"1\" class=\"dataframe\">\n",
       "  <thead>\n",
       "    <tr style=\"text-align: right;\">\n",
       "      <th></th>\n",
       "      <th>Wikipedia movie ID</th>\n",
       "      <th>Freebase_movie_ID</th>\n",
       "      <th>Movie_name</th>\n",
       "      <th>Movie_release_date</th>\n",
       "      <th>Movie_box_office_revenue</th>\n",
       "      <th>Movie_runtime</th>\n",
       "      <th>Movie_languages</th>\n",
       "      <th>Movie_countries</th>\n",
       "      <th>Movie_genres</th>\n",
       "      <th>Movie_languages_clean</th>\n",
       "      <th>Movie_countries_clean</th>\n",
       "      <th>Movie_genres_clean</th>\n",
       "      <th>Movie_release_year</th>\n",
       "      <th>Movie_release_date_datetime</th>\n",
       "      <th>movie_title</th>\n",
       "      <th>movie_revenue</th>\n",
       "      <th>budget</th>\n",
       "      <th>id</th>\n",
       "      <th>release_date</th>\n",
       "    </tr>\n",
       "  </thead>\n",
       "  <tbody>\n",
       "    <tr>\n",
       "      <th>0</th>\n",
       "      <td>975900</td>\n",
       "      <td>03vyhn</td>\n",
       "      <td>Ghosts of Mars</td>\n",
       "      <td>2001-08-24</td>\n",
       "      <td>14010832.0</td>\n",
       "      <td>98.0</td>\n",
       "      <td>{\"/m/02h40lc\": \"English Language\"}</td>\n",
       "      <td>{\"/m/09c7w0\": \"United States of America\"}</td>\n",
       "      <td>{\"/m/01jfsb\": \"Thriller\", \"/m/06n90\": \"Science...</td>\n",
       "      <td>[English Language]</td>\n",
       "      <td>[United States of America]</td>\n",
       "      <td>[Thriller, Science Fiction, Horror, Adventure,...</td>\n",
       "      <td>2001</td>\n",
       "      <td>2001-08-24</td>\n",
       "      <td>Ghosts of Mars</td>\n",
       "      <td>8709640.0</td>\n",
       "      <td>28000000.0</td>\n",
       "      <td>10016</td>\n",
       "      <td>2001-08-24</td>\n",
       "    </tr>\n",
       "    <tr>\n",
       "      <th>1</th>\n",
       "      <td>3196793</td>\n",
       "      <td>08yl5d</td>\n",
       "      <td>Getting Away with Murder: The JonBenét Ramsey ...</td>\n",
       "      <td>2000-02-16</td>\n",
       "      <td>NaN</td>\n",
       "      <td>95.0</td>\n",
       "      <td>{\"/m/02h40lc\": \"English Language\"}</td>\n",
       "      <td>{\"/m/09c7w0\": \"United States of America\"}</td>\n",
       "      <td>{\"/m/02n4kr\": \"Mystery\", \"/m/03bxz7\": \"Biograp...</td>\n",
       "      <td>[English Language]</td>\n",
       "      <td>[United States of America]</td>\n",
       "      <td>[Mystery, Biographical film, Drama, Crime Drama]</td>\n",
       "      <td>2000</td>\n",
       "      <td>2000-02-16</td>\n",
       "      <td>NaN</td>\n",
       "      <td>NaN</td>\n",
       "      <td>NaN</td>\n",
       "      <td>NaN</td>\n",
       "      <td>NaN</td>\n",
       "    </tr>\n",
       "    <tr>\n",
       "      <th>2</th>\n",
       "      <td>28463795</td>\n",
       "      <td>0crgdbh</td>\n",
       "      <td>Brun bitter</td>\n",
       "      <td>1988</td>\n",
       "      <td>NaN</td>\n",
       "      <td>83.0</td>\n",
       "      <td>{\"/m/05f_3\": \"Norwegian Language\"}</td>\n",
       "      <td>{\"/m/05b4w\": \"Norway\"}</td>\n",
       "      <td>{\"/m/0lsxr\": \"Crime Fiction\", \"/m/07s9rl0\": \"D...</td>\n",
       "      <td>[Norwegian Language]</td>\n",
       "      <td>[Norway]</td>\n",
       "      <td>[Crime Fiction, Drama]</td>\n",
       "      <td>1988</td>\n",
       "      <td>NaT</td>\n",
       "      <td>NaN</td>\n",
       "      <td>NaN</td>\n",
       "      <td>NaN</td>\n",
       "      <td>NaN</td>\n",
       "      <td>NaN</td>\n",
       "    </tr>\n",
       "    <tr>\n",
       "      <th>3</th>\n",
       "      <td>9363483</td>\n",
       "      <td>0285_cd</td>\n",
       "      <td>White Of The Eye</td>\n",
       "      <td>1987</td>\n",
       "      <td>NaN</td>\n",
       "      <td>110.0</td>\n",
       "      <td>{\"/m/02h40lc\": \"English Language\"}</td>\n",
       "      <td>{\"/m/07ssc\": \"United Kingdom\"}</td>\n",
       "      <td>{\"/m/01jfsb\": \"Thriller\", \"/m/0glj9q\": \"Erotic...</td>\n",
       "      <td>[English Language]</td>\n",
       "      <td>[United Kingdom]</td>\n",
       "      <td>[Thriller, Erotic thriller, Psychological thri...</td>\n",
       "      <td>1987</td>\n",
       "      <td>NaT</td>\n",
       "      <td>NaN</td>\n",
       "      <td>NaN</td>\n",
       "      <td>NaN</td>\n",
       "      <td>NaN</td>\n",
       "      <td>NaN</td>\n",
       "    </tr>\n",
       "    <tr>\n",
       "      <th>4</th>\n",
       "      <td>261236</td>\n",
       "      <td>01mrr1</td>\n",
       "      <td>A Woman in Flames</td>\n",
       "      <td>1983</td>\n",
       "      <td>NaN</td>\n",
       "      <td>106.0</td>\n",
       "      <td>{\"/m/04306rv\": \"German Language\"}</td>\n",
       "      <td>{\"/m/0345h\": \"Germany\"}</td>\n",
       "      <td>{\"/m/07s9rl0\": \"Drama\"}</td>\n",
       "      <td>[German Language]</td>\n",
       "      <td>[Germany]</td>\n",
       "      <td>[Drama]</td>\n",
       "      <td>1983</td>\n",
       "      <td>NaT</td>\n",
       "      <td>NaN</td>\n",
       "      <td>NaN</td>\n",
       "      <td>NaN</td>\n",
       "      <td>NaN</td>\n",
       "      <td>NaN</td>\n",
       "    </tr>\n",
       "  </tbody>\n",
       "</table>\n",
       "</div>"
      ],
      "text/plain": [
       "   Wikipedia movie ID Freebase_movie_ID  \\\n",
       "0              975900            03vyhn   \n",
       "1             3196793            08yl5d   \n",
       "2            28463795           0crgdbh   \n",
       "3             9363483           0285_cd   \n",
       "4              261236            01mrr1   \n",
       "\n",
       "                                          Movie_name Movie_release_date  \\\n",
       "0                                     Ghosts of Mars         2001-08-24   \n",
       "1  Getting Away with Murder: The JonBenét Ramsey ...         2000-02-16   \n",
       "2                                        Brun bitter               1988   \n",
       "3                                   White Of The Eye               1987   \n",
       "4                                  A Woman in Flames               1983   \n",
       "\n",
       "   Movie_box_office_revenue  Movie_runtime  \\\n",
       "0                14010832.0           98.0   \n",
       "1                       NaN           95.0   \n",
       "2                       NaN           83.0   \n",
       "3                       NaN          110.0   \n",
       "4                       NaN          106.0   \n",
       "\n",
       "                      Movie_languages  \\\n",
       "0  {\"/m/02h40lc\": \"English Language\"}   \n",
       "1  {\"/m/02h40lc\": \"English Language\"}   \n",
       "2  {\"/m/05f_3\": \"Norwegian Language\"}   \n",
       "3  {\"/m/02h40lc\": \"English Language\"}   \n",
       "4   {\"/m/04306rv\": \"German Language\"}   \n",
       "\n",
       "                             Movie_countries  \\\n",
       "0  {\"/m/09c7w0\": \"United States of America\"}   \n",
       "1  {\"/m/09c7w0\": \"United States of America\"}   \n",
       "2                     {\"/m/05b4w\": \"Norway\"}   \n",
       "3             {\"/m/07ssc\": \"United Kingdom\"}   \n",
       "4                    {\"/m/0345h\": \"Germany\"}   \n",
       "\n",
       "                                        Movie_genres Movie_languages_clean  \\\n",
       "0  {\"/m/01jfsb\": \"Thriller\", \"/m/06n90\": \"Science...    [English Language]   \n",
       "1  {\"/m/02n4kr\": \"Mystery\", \"/m/03bxz7\": \"Biograp...    [English Language]   \n",
       "2  {\"/m/0lsxr\": \"Crime Fiction\", \"/m/07s9rl0\": \"D...  [Norwegian Language]   \n",
       "3  {\"/m/01jfsb\": \"Thriller\", \"/m/0glj9q\": \"Erotic...    [English Language]   \n",
       "4                            {\"/m/07s9rl0\": \"Drama\"}     [German Language]   \n",
       "\n",
       "        Movie_countries_clean  \\\n",
       "0  [United States of America]   \n",
       "1  [United States of America]   \n",
       "2                    [Norway]   \n",
       "3            [United Kingdom]   \n",
       "4                   [Germany]   \n",
       "\n",
       "                                  Movie_genres_clean Movie_release_year  \\\n",
       "0  [Thriller, Science Fiction, Horror, Adventure,...               2001   \n",
       "1   [Mystery, Biographical film, Drama, Crime Drama]               2000   \n",
       "2                             [Crime Fiction, Drama]               1988   \n",
       "3  [Thriller, Erotic thriller, Psychological thri...               1987   \n",
       "4                                            [Drama]               1983   \n",
       "\n",
       "  Movie_release_date_datetime     movie_title  movie_revenue      budget  \\\n",
       "0                  2001-08-24  Ghosts of Mars      8709640.0  28000000.0   \n",
       "1                  2000-02-16             NaN            NaN         NaN   \n",
       "2                         NaT             NaN            NaN         NaN   \n",
       "3                         NaT             NaN            NaN         NaN   \n",
       "4                         NaT             NaN            NaN         NaN   \n",
       "\n",
       "      id release_date  \n",
       "0  10016   2001-08-24  \n",
       "1    NaN          NaN  \n",
       "2    NaN          NaN  \n",
       "3    NaN          NaN  \n",
       "4    NaN          NaN  "
      ]
     },
     "execution_count": 14,
     "metadata": {},
     "output_type": "execute_result"
    }
   ],
   "source": [
    "#Merging the budget datafram with the main dataframe\n",
    "budget[\"Movie_release_year\"] = budget[\"Movie_release_year\"].astype(\"str\")\n",
    "# merge 'movies' with 'budget'\n",
    "merged_df = pd.merge(\n",
    "    left=merged_df,\n",
    "    right=budget,\n",
    "    how=\"left\",\n",
    "    on=[\"Movie_name\", \"Movie_release_year\", \"Movie_runtime\"],\n",
    ")\n",
    "# convert budget to float\n",
    "merged_df[\"budget\"] = merged_df[\"budget\"].astype(\"float\")\n",
    "\n",
    "merged_df.head()"
   ]
  },
  {
   "cell_type": "code",
   "execution_count": 15,
   "metadata": {},
   "outputs": [
    {
     "name": "stdout",
     "output_type": "stream",
     "text": [
      "<class 'pandas.core.frame.DataFrame'>\n",
      "RangeIndex: 75481 entries, 0 to 75480\n",
      "Data columns (total 19 columns):\n",
      " #   Column                       Non-Null Count  Dtype         \n",
      "---  ------                       --------------  -----         \n",
      " 0   Wikipedia movie ID           75481 non-null  int64         \n",
      " 1   Freebase_movie_ID            75481 non-null  object        \n",
      " 2   Movie_name                   75481 non-null  object        \n",
      " 3   Movie_release_date           68981 non-null  object        \n",
      " 4   Movie_box_office_revenue     9378 non-null   float64       \n",
      " 5   Movie_runtime                56348 non-null  float64       \n",
      " 6   Movie_languages              75481 non-null  object        \n",
      " 7   Movie_countries              75481 non-null  object        \n",
      " 8   Movie_genres                 75481 non-null  object        \n",
      " 9   Movie_languages_clean        75481 non-null  object        \n",
      " 10  Movie_countries_clean        75481 non-null  object        \n",
      " 11  Movie_genres_clean           75481 non-null  object        \n",
      " 12  Movie_release_year           68981 non-null  object        \n",
      " 13  Movie_release_date_datetime  39050 non-null  datetime64[ns]\n",
      " 14  movie_title                  6037 non-null   object        \n",
      " 15  movie_revenue                6037 non-null   float64       \n",
      " 16  budget                       9055 non-null   float64       \n",
      " 17  id                           9055 non-null   object        \n",
      " 18  release_date                 9055 non-null   object        \n",
      "dtypes: datetime64[ns](1), float64(4), int64(1), object(13)\n",
      "memory usage: 10.9+ MB\n"
     ]
    }
   ],
   "source": [
    "merged_df.info()"
   ]
  },
  {
   "cell_type": "code",
   "execution_count": 16,
   "metadata": {},
   "outputs": [
    {
     "data": {
      "image/png": "[encoded data removed]",
      "text/plain": [
       "<Figure size 1000x600 with 1 Axes>"
      ]
     },
     "metadata": {},
     "output_type": "display_data"
    }
   ],
   "source": [
    "# Calculate the percentage of non-missing values for each column\n",
    "percentage_non_missing = (merged_df.count() / len(merged_df)) * 100\n",
    "\n",
    "# Plot the results\n",
    "plt.figure(figsize=(10,6))\n",
    "plt.bar(percentage_non_missing.index, percentage_non_missing)\n",
    "plt.xlabel('Columns')\n",
    "plt.xticks(rotation=45, ha='right')\n",
    "plt.ylabel('Percentage of Non-Missing Values')\n",
    "plt.title('Percentage of Non-Missing Values in Each Column')\n",
    "\n",
    "def percent_formatter(x, pos):\n",
    "    return f'{x:.0f}%'\n",
    "\n",
    "plt.gca().yaxis.set_major_formatter(FuncFormatter(percent_formatter))\n",
    "plt.show()"
   ]
  },
  {
   "cell_type": "code",
   "execution_count": 17,
   "metadata": {},
   "outputs": [
    {
     "name": "stdout",
     "output_type": "stream",
     "text": [
      "Movie merged with budget shape (75478, 14)\n"
     ]
    }
   ],
   "source": [
    "print(\"Movie merged with budget shape\", movie_summaries.shape)"
   ]
  },
  {
   "cell_type": "markdown",
   "metadata": {},
   "source": [
    "## Q1: Does language variety mean more box office revenue?\n",
    "The purpose of this section is to investigate the possible correlation between the box office revenue and the number of languages presented in a movie. First, we determine the length of the language list, assigning a value of zero if the list is empty. In addition, we eliminate all NaN values, especially given our initial investigation which revealed a considerable amount of missing data in the movie revenue. At the end, we have in total 8401 useful entries to analyse."
   ]
  },
  {
   "cell_type": "code",
   "execution_count": 18,
   "metadata": {
    "collapsed": false,
    "jupyter": {
     "outputs_hidden": false
    },
    "tags": []
   },
   "outputs": [
    {
     "name": "stdout",
     "output_type": "stream",
     "text": [
      "<class 'pandas.core.frame.DataFrame'>\n",
      "RangeIndex: 75481 entries, 0 to 75480\n",
      "Data columns (total 19 columns):\n",
      " #   Column                       Non-Null Count  Dtype         \n",
      "---  ------                       --------------  -----         \n",
      " 0   Wikipedia movie ID           75481 non-null  int64         \n",
      " 1   Freebase_movie_ID            75481 non-null  object        \n",
      " 2   Movie_name                   75481 non-null  object        \n",
      " 3   Movie_release_date           68981 non-null  object        \n",
      " 4   Movie_box_office_revenue     9378 non-null   float64       \n",
      " 5   Movie_runtime                56348 non-null  float64       \n",
      " 6   Movie_languages              75481 non-null  object        \n",
      " 7   Movie_countries              75481 non-null  object        \n",
      " 8   Movie_genres                 75481 non-null  object        \n",
      " 9   Movie_languages_clean        75481 non-null  object        \n",
      " 10  Movie_countries_clean        75481 non-null  object        \n",
      " 11  Movie_genres_clean           75481 non-null  object        \n",
      " 12  Movie_release_year           68981 non-null  object        \n",
      " 13  Movie_release_date_datetime  39050 non-null  datetime64[ns]\n",
      " 14  movie_title                  6037 non-null   object        \n",
      " 15  movie_revenue                6037 non-null   float64       \n",
      " 16  budget                       9055 non-null   float64       \n",
      " 17  id                           9055 non-null   object        \n",
      " 18  release_date                 9055 non-null   object        \n",
      "dtypes: datetime64[ns](1), float64(4), int64(1), object(13)\n",
      "memory usage: 10.9+ MB\n",
      "<class 'pandas.core.frame.DataFrame'>\n",
      "Index: 9378 entries, 0 to 75474\n",
      "Data columns (total 3 columns):\n",
      " #   Column                    Non-Null Count  Dtype  \n",
      "---  ------                    --------------  -----  \n",
      " 0   Movie_name                9378 non-null   object \n",
      " 1   Movie_box_office_revenue  9378 non-null   float64\n",
      " 2   language_count            9378 non-null   int64  \n",
      "dtypes: float64(1), int64(1), object(1)\n",
      "memory usage: 293.1+ KB\n"
     ]
    }
   ],
   "source": [
    "# Count the number of languages in a movie\n",
    "# Create a new column\n",
    "df = merged_df.copy(deep=True)\n",
    "df.info()\n",
    "df['language_count'] = df['Movie_languages_clean'].apply(len)\n",
    "df_language_count = df[['Movie_name', 'Movie_box_office_revenue', 'language_count']].dropna()\n",
    "df_language_count.info()"
   ]
  },
  {
   "cell_type": "markdown",
   "metadata": {},
   "source": [
    "#### Language Count Distribution\n",
    "We focus on the number of languages and try to understand the distribution of languages. The plot shows that the majority of films (76.56% of non-NaN data in box office revenue) have only one language. This presents a challenge for further analysis as it indicates a significant imbalance in the data set when examining language diversity."
   ]
  },
  {
   "cell_type": "code",
   "execution_count": 19,
   "metadata": {
    "collapsed": false,
    "jupyter": {
     "outputs_hidden": false
    },
    "tags": []
   },
   "outputs": [
    {
     "data": {
      "image/png": "[encoded data removed]",
      "text/plain": [
       "<Figure size 800x300 with 1 Axes>"
      ]
     },
     "metadata": {},
     "output_type": "display_data"
    }
   ],
   "source": [
    "plt.figure(figsize=(8,3))\n",
    "ax = sns.countplot(df_language_count, x='language_count')\n",
    "ax.set(xlabel='Number of Languages', ylabel='Count')\n",
    "for p in ax.patches:\n",
    "    percentage = '{:.2f}%'.format(100 * p.get_height()/float(len(df_language_count)))\n",
    "    x = p.get_x() + p.get_width()\n",
    "    y = p.get_height()\n",
    "    ax.annotate(percentage, (x, y), ha='right', va='bottom')\n",
    "\n",
    "plt.tight_layout()"
   ]
  },
  {
   "cell_type": "markdown",
   "metadata": {},
   "source": [
    "#### Box Office Revenue Distribution\n",
    "The box office revenue data have some extreme values. To improve the clarity and interpretability of the distribution in our visualizations, we use a logarithmic scale."
   ]
  },
  {
   "cell_type": "code",
   "execution_count": 20,
   "metadata": {
    "collapsed": false,
    "jupyter": {
     "outputs_hidden": false
    },
    "tags": []
   },
   "outputs": [
    {
     "data": {
      "text/plain": [
       "Text(0.5, 0, 'Box Office Revenue\\n(Log Scale)')"
      ]
     },
     "execution_count": 20,
     "metadata": {},
     "output_type": "execute_result"
    },
    {
     "data": {
      "image/png": "[encoded data removed]",
      "text/plain": [
       "<Figure size 800x300 with 1 Axes>"
      ]
     },
     "metadata": {},
     "output_type": "display_data"
    }
   ],
   "source": [
    "plt.figure(figsize=(8,3))\n",
    "sns.histplot(df_language_count, x='Movie_box_office_revenue', log_scale=True)\n",
    "plt.xlabel('Box Office Revenue\\n(Log Scale)')"
   ]
  },
  {
   "cell_type": "markdown",
   "metadata": {},
   "source": [
    "#### Box Office Revenue v.s. Number of Languages\n",
    "We want to examine the correlation between these two variables. While this visualization suggests a trend towards higher box office results for more languages, it is important to note that the comparison may not be meaningful due to unequal data sizes across language groups."
   ]
  },
  {
   "cell_type": "code",
   "execution_count": 21,
   "metadata": {
    "collapsed": false,
    "jupyter": {
     "outputs_hidden": false
    },
    "tags": []
   },
   "outputs": [
    {
     "ename": "TypeError",
     "evalue": "boxplot() got an unexpected keyword argument 'fill'",
     "output_type": "error",
     "traceback": [
      "\u001b[1;31m---------------------------------------------------------------------------\u001b[0m",
      "\u001b[1;31mTypeError\u001b[0m                                 Traceback (most recent call last)",
      "Cell \u001b[1;32mIn[21], line 2\u001b[0m\n\u001b[0;32m      1\u001b[0m plt\u001b[38;5;241m.\u001b[39mfigure(figsize\u001b[38;5;241m=\u001b[39m(\u001b[38;5;241m8\u001b[39m, \u001b[38;5;241m4\u001b[39m))\n\u001b[1;32m----> 2\u001b[0m \u001b[43msns\u001b[49m\u001b[38;5;241;43m.\u001b[39;49m\u001b[43mboxplot\u001b[49m\u001b[43m(\u001b[49m\u001b[43mdf_language_count\u001b[49m\u001b[43m,\u001b[49m\u001b[43m \u001b[49m\u001b[43my\u001b[49m\u001b[38;5;241;43m=\u001b[39;49m\u001b[38;5;124;43m'\u001b[39;49m\u001b[38;5;124;43mMovie_box_office_revenue\u001b[39;49m\u001b[38;5;124;43m'\u001b[39;49m\u001b[43m,\u001b[49m\u001b[43m \u001b[49m\u001b[43mx\u001b[49m\u001b[38;5;241;43m=\u001b[39;49m\u001b[38;5;124;43m'\u001b[39;49m\u001b[38;5;124;43mlanguage_count\u001b[39;49m\u001b[38;5;124;43m'\u001b[39;49m\u001b[43m,\u001b[49m\u001b[43m \u001b[49m\u001b[43mfill\u001b[49m\u001b[38;5;241;43m=\u001b[39;49m\u001b[38;5;28;43;01mFalse\u001b[39;49;00m\u001b[43m,\u001b[49m\u001b[43m \u001b[49m\u001b[43mwidth\u001b[49m\u001b[38;5;241;43m=\u001b[39;49m\u001b[38;5;241;43m.5\u001b[39;49m\u001b[43m,\u001b[49m\u001b[43m \u001b[49m\u001b[43mlinewidth\u001b[49m\u001b[38;5;241;43m=\u001b[39;49m\u001b[38;5;241;43m.75\u001b[39;49m\u001b[43m,\u001b[49m\u001b[43m \u001b[49m\u001b[43mshowfliers\u001b[49m\u001b[38;5;241;43m=\u001b[39;49m\u001b[38;5;28;43;01mFalse\u001b[39;49;00m\u001b[43m)\u001b[49m\n\u001b[0;32m      3\u001b[0m sns\u001b[38;5;241m.\u001b[39mstripplot(df_language_count, y\u001b[38;5;241m=\u001b[39m\u001b[38;5;124m'\u001b[39m\u001b[38;5;124mMovie_box_office_revenue\u001b[39m\u001b[38;5;124m'\u001b[39m, x\u001b[38;5;241m=\u001b[39m\u001b[38;5;124m'\u001b[39m\u001b[38;5;124mlanguage_count\u001b[39m\u001b[38;5;124m'\u001b[39m, size\u001b[38;5;241m=\u001b[39m\u001b[38;5;241m1.5\u001b[39m, log_scale\u001b[38;5;241m=\u001b[39m\u001b[38;5;28;01mTrue\u001b[39;00m, color\u001b[38;5;241m=\u001b[39m\u001b[38;5;124m'\u001b[39m\u001b[38;5;124mgrey\u001b[39m\u001b[38;5;124m'\u001b[39m, alpha\u001b[38;5;241m=\u001b[39m\u001b[38;5;241m0.5\u001b[39m)\n\u001b[0;32m      4\u001b[0m plt\u001b[38;5;241m.\u001b[39mxlabel(\u001b[38;5;124m'\u001b[39m\u001b[38;5;124mNumber of Languages\u001b[39m\u001b[38;5;124m'\u001b[39m)\n",
      "File \u001b[1;32m~\\miniconda3\\envs\\ada\\lib\\site-packages\\seaborn\\categorical.py:2239\u001b[0m, in \u001b[0;36mboxplot\u001b[1;34m(data, x, y, hue, order, hue_order, orient, color, palette, saturation, width, dodge, fliersize, linewidth, whis, ax, **kwargs)\u001b[0m\n\u001b[0;32m   2236\u001b[0m     ax \u001b[38;5;241m=\u001b[39m plt\u001b[38;5;241m.\u001b[39mgca()\n\u001b[0;32m   2237\u001b[0m kwargs\u001b[38;5;241m.\u001b[39mupdate(\u001b[38;5;28mdict\u001b[39m(whis\u001b[38;5;241m=\u001b[39mwhis))\n\u001b[1;32m-> 2239\u001b[0m \u001b[43mplotter\u001b[49m\u001b[38;5;241;43m.\u001b[39;49m\u001b[43mplot\u001b[49m\u001b[43m(\u001b[49m\u001b[43max\u001b[49m\u001b[43m,\u001b[49m\u001b[43m \u001b[49m\u001b[43mkwargs\u001b[49m\u001b[43m)\u001b[49m\n\u001b[0;32m   2240\u001b[0m \u001b[38;5;28;01mreturn\u001b[39;00m ax\n",
      "File \u001b[1;32m~\\miniconda3\\envs\\ada\\lib\\site-packages\\seaborn\\categorical.py:888\u001b[0m, in \u001b[0;36m_BoxPlotter.plot\u001b[1;34m(self, ax, boxplot_kws)\u001b[0m\n\u001b[0;32m    886\u001b[0m \u001b[38;5;28;01mdef\u001b[39;00m \u001b[38;5;21mplot\u001b[39m(\u001b[38;5;28mself\u001b[39m, ax, boxplot_kws):\n\u001b[0;32m    887\u001b[0m \u001b[38;5;250m    \u001b[39m\u001b[38;5;124;03m\"\"\"Make the plot.\"\"\"\u001b[39;00m\n\u001b[1;32m--> 888\u001b[0m     \u001b[38;5;28;43mself\u001b[39;49m\u001b[38;5;241;43m.\u001b[39;49m\u001b[43mdraw_boxplot\u001b[49m\u001b[43m(\u001b[49m\u001b[43max\u001b[49m\u001b[43m,\u001b[49m\u001b[43m \u001b[49m\u001b[43mboxplot_kws\u001b[49m\u001b[43m)\u001b[49m\n\u001b[0;32m    889\u001b[0m     \u001b[38;5;28mself\u001b[39m\u001b[38;5;241m.\u001b[39mannotate_axes(ax)\n\u001b[0;32m    890\u001b[0m     \u001b[38;5;28;01mif\u001b[39;00m \u001b[38;5;28mself\u001b[39m\u001b[38;5;241m.\u001b[39morient \u001b[38;5;241m==\u001b[39m \u001b[38;5;124m\"\u001b[39m\u001b[38;5;124mh\u001b[39m\u001b[38;5;124m\"\u001b[39m:\n",
      "File \u001b[1;32m~\\miniconda3\\envs\\ada\\lib\\site-packages\\seaborn\\categorical.py:820\u001b[0m, in \u001b[0;36m_BoxPlotter.draw_boxplot\u001b[1;34m(self, ax, kws)\u001b[0m\n\u001b[0;32m    817\u001b[0m \u001b[38;5;28;01mif\u001b[39;00m box_data\u001b[38;5;241m.\u001b[39msize \u001b[38;5;241m==\u001b[39m \u001b[38;5;241m0\u001b[39m:\n\u001b[0;32m    818\u001b[0m     \u001b[38;5;28;01mcontinue\u001b[39;00m\n\u001b[1;32m--> 820\u001b[0m artist_dict \u001b[38;5;241m=\u001b[39m ax\u001b[38;5;241m.\u001b[39mboxplot(box_data,\n\u001b[0;32m    821\u001b[0m                          vert\u001b[38;5;241m=\u001b[39mvert,\n\u001b[0;32m    822\u001b[0m                          patch_artist\u001b[38;5;241m=\u001b[39m\u001b[38;5;28;01mTrue\u001b[39;00m,\n\u001b[0;32m    823\u001b[0m                          positions\u001b[38;5;241m=\u001b[39m[i],\n\u001b[0;32m    824\u001b[0m                          widths\u001b[38;5;241m=\u001b[39m\u001b[38;5;28mself\u001b[39m\u001b[38;5;241m.\u001b[39mwidth,\n\u001b[0;32m    825\u001b[0m                          \u001b[38;5;241m*\u001b[39m\u001b[38;5;241m*\u001b[39mkws)\n\u001b[0;32m    826\u001b[0m color \u001b[38;5;241m=\u001b[39m \u001b[38;5;28mself\u001b[39m\u001b[38;5;241m.\u001b[39mcolors[i]\n\u001b[0;32m    827\u001b[0m \u001b[38;5;28mself\u001b[39m\u001b[38;5;241m.\u001b[39mrestyle_boxplot(artist_dict, color, props)\n",
      "File \u001b[1;32m~\\miniconda3\\envs\\ada\\lib\\site-packages\\matplotlib\\__init__.py:1465\u001b[0m, in \u001b[0;36m_preprocess_data.<locals>.inner\u001b[1;34m(ax, data, *args, **kwargs)\u001b[0m\n\u001b[0;32m   1462\u001b[0m \u001b[38;5;129m@functools\u001b[39m\u001b[38;5;241m.\u001b[39mwraps(func)\n\u001b[0;32m   1463\u001b[0m \u001b[38;5;28;01mdef\u001b[39;00m \u001b[38;5;21minner\u001b[39m(ax, \u001b[38;5;241m*\u001b[39margs, data\u001b[38;5;241m=\u001b[39m\u001b[38;5;28;01mNone\u001b[39;00m, \u001b[38;5;241m*\u001b[39m\u001b[38;5;241m*\u001b[39mkwargs):\n\u001b[0;32m   1464\u001b[0m     \u001b[38;5;28;01mif\u001b[39;00m data \u001b[38;5;129;01mis\u001b[39;00m \u001b[38;5;28;01mNone\u001b[39;00m:\n\u001b[1;32m-> 1465\u001b[0m         \u001b[38;5;28;01mreturn\u001b[39;00m func(ax, \u001b[38;5;241m*\u001b[39m\u001b[38;5;28mmap\u001b[39m(sanitize_sequence, args), \u001b[38;5;241m*\u001b[39m\u001b[38;5;241m*\u001b[39mkwargs)\n\u001b[0;32m   1467\u001b[0m     bound \u001b[38;5;241m=\u001b[39m new_sig\u001b[38;5;241m.\u001b[39mbind(ax, \u001b[38;5;241m*\u001b[39margs, \u001b[38;5;241m*\u001b[39m\u001b[38;5;241m*\u001b[39mkwargs)\n\u001b[0;32m   1468\u001b[0m     auto_label \u001b[38;5;241m=\u001b[39m (bound\u001b[38;5;241m.\u001b[39marguments\u001b[38;5;241m.\u001b[39mget(label_namer)\n\u001b[0;32m   1469\u001b[0m                   \u001b[38;5;129;01mor\u001b[39;00m bound\u001b[38;5;241m.\u001b[39mkwargs\u001b[38;5;241m.\u001b[39mget(label_namer))\n",
      "\u001b[1;31mTypeError\u001b[0m: boxplot() got an unexpected keyword argument 'fill'"
     ]
    },
    {
     "data": {
      "image/png": "[encoded data removed]",
      "text/plain": [
       "<Figure size 800x400 with 1 Axes>"
      ]
     },
     "metadata": {},
     "output_type": "display_data"
    }
   ],
   "source": [
    "plt.figure(figsize=(8, 4))\n",
    "sns.boxplot(df_language_count, y='Movie_box_office_revenue', x='language_count', fill=False, width=.5, linewidth=.75, showfliers=False)\n",
    "sns.stripplot(df_language_count, y='Movie_box_office_revenue', x='language_count', size=1.5, log_scale=True, color='grey', alpha=0.5)\n",
    "plt.xlabel('Number of Languages')\n",
    "plt.ylabel('Box Office Revenue\\n(Log Scale)')"
   ]
  },
  {
   "cell_type": "markdown",
   "metadata": {},
   "source": [
    "### Correlation and Test\n",
    "So, for the correlation, we formulate the following hypothesis test:\n",
    "- **Null Hypothesis (H0):** There is no correlation between the number of languages and box revenue.\n",
    "- **Alternative Hypothesis (H1):** There is a correlation between the number of languages and box revenue.\n",
    "\n",
    "We select a significance level of 0.05. The calculation of the correlation coefficient and the associated p-value provides further information on the relationship between box office receipts and the number of languages. The calculated p-value is smaller than the selected significance level, so that we can reject the null hypothesis. This indicates a statistically significant correlation between the number of languages and box office takings. However, given the unbalanced data set, further tests or data transformations should be performed to confirm this result."
   ]
  },
  {
   "cell_type": "code",
   "execution_count": null,
   "metadata": {
    "collapsed": false,
    "jupyter": {
     "outputs_hidden": false
    }
   },
   "outputs": [],
   "source": [
    "from scipy.stats import pearsonr\n",
    "\n",
    "correlation_coefficient, p_value = pearsonr(df_language_count['language_count'], df_language_count['Movie_box_office_revenue'])\n",
    "print(f\"R: {correlation_coefficient}\\nP-value: {p_value}\")"
   ]
  },
  {
   "cell_type": "markdown",
   "metadata": {},
   "source": [
    "### Q1: Sub-section - Budget\n",
    "\n",
    "Whereas we identified a significant correlation between the number of languages in a movie and its box office revenue, this doesn't establish that having more languages in a movie brings in more revenue. It is also probable that high budget films, made to bring in high revenue, are the types of movies that can have such a language variety. To investigate this, we will analyse any possible correlations between budget data of a movie and its box office revenue and language counts."
   ]
  },
  {
   "cell_type": "code",
   "execution_count": null,
   "metadata": {},
   "outputs": [],
   "source": [
    "budget_df= df[df[\"budget\"].notna() & df[\"budget\"] != 0].copy(deep=True)\n",
    "budget_df_count = budget_df[['Movie_name', 'Movie_box_office_revenue', 'budget','language_count']].dropna().copy(deep=True)"
   ]
  },
  {
   "cell_type": "code",
   "execution_count": null,
   "metadata": {},
   "outputs": [],
   "source": [
    "#Distribution plot\n",
    "budget_df_count[\"budget\"].hist(bins=100)\n",
    "#plt.xscale(\"log\")\n",
    "plt.xlabel('Budget size') \n",
    "plt.ylabel('Count')\n",
    "plt.title(\"The Distribution of Movie Budget Sizes\")"
   ]
  },
  {
   "cell_type": "markdown",
   "metadata": {},
   "source": [
    "#### Budget Size and Revenue"
   ]
  },
  {
   "cell_type": "code",
   "execution_count": null,
   "metadata": {},
   "outputs": [],
   "source": [
    "p1 = sns.jointplot(data = budget_df_count, x = \"budget\", y = 'Movie_box_office_revenue', kind=\"reg\", joint_kws={'line_kws':{'color':'cyan'}})\n",
    "plt.xlabel(\"Budget Size of the Movie\")\n",
    "plt.ylabel('Worldwide Gross Revenue')\n",
    "p1.fig.suptitle(\"Movie Budget Size VS Box Office Revenue\")\n",
    "p1.fig.tight_layout()\n",
    "p1.fig.subplots_adjust(top=0.95) # Reduce plot to make room"
   ]
  },
  {
   "cell_type": "code",
   "execution_count": null,
   "metadata": {},
   "outputs": [],
   "source": [
    "correlation_coefficient, p_value = pearsonr(budget_df_count['budget'], budget_df_count['Movie_box_office_revenue'])\n",
    "print(f\"R: {correlation_coefficient}\\nP-value: {p_value}\")"
   ]
  },
  {
   "cell_type": "markdown",
   "metadata": {},
   "source": [
    "Indeed, we see a positive linear trend between the budget of a movie and its box office revenue, with R ~= 0.72. "
   ]
  },
  {
   "cell_type": "markdown",
   "metadata": {},
   "source": [
    "#### Budget Size and Language Count"
   ]
  },
  {
   "cell_type": "code",
   "execution_count": null,
   "metadata": {},
   "outputs": [],
   "source": [
    "p2= sns.jointplot(data = budget_df_count, x = \"language_count\", y = 'budget', kind=\"reg\", joint_kws={'line_kws':{'color':'cyan'}})\n",
    "plt.xlabel('Number of Languages Present')\n",
    "plt.ylabel(\"Budget Size of the Movie\")\n",
    "p2.fig.suptitle(\"Movie Budget Size VS Number of Languages\")\n",
    "p2.fig.tight_layout()\n",
    "p2.fig.subplots_adjust(top=0.95) # Reduce plot to make room"
   ]
  },
  {
   "cell_type": "code",
   "execution_count": null,
   "metadata": {},
   "outputs": [],
   "source": [
    "correlation_coefficient, p_value = pearsonr(budget_df_count['budget'], budget_df_count['language_count'])\n",
    "print(f\"R: {correlation_coefficient}\\nP-value: {p_value}\")"
   ]
  },
  {
   "cell_type": "markdown",
   "metadata": {},
   "source": [
    "Whereas we also see a positive linear trend between the number of languages and the budget size, the correlation is not as strong. Especially in 1-2 language movies (and a bit less so in 3-5 language movies), the budget size per movie varies quite a lot."
   ]
  },
  {
   "cell_type": "markdown",
   "metadata": {},
   "source": [
    "#### Take-away\n",
    "Overall, the budget size of a movie of has a positive linear relationship with both revenue and number of languages. This does put the budget size as a possible confonduer, especially with the significant p-values being observed. More investigation might be required to shop the relationship between these three parameters."
   ]
  },
  {
   "cell_type": "markdown",
   "metadata": {},
   "source": [
    "## Q2: Which languages lead to more box office revenue?\n"
   ]
  },
  {
   "cell_type": "markdown",
   "metadata": {
    "tags": []
   },
   "source": [
    "### Total revenue per language"
   ]
  },
  {
   "cell_type": "code",
   "execution_count": null,
   "metadata": {
    "tags": []
   },
   "outputs": [],
   "source": [
    "df_language = merged_df[['Freebase_movie_ID', 'Movie_name', 'Movie_box_office_revenue', 'Movie_languages_clean']]\n",
    "df_language = df_language.explode('Movie_languages_clean')\n",
    "language_revenue = df_language.groupby('Movie_languages_clean')['Movie_box_office_revenue'].sum().reset_index()\n",
    "language_revenue = language_revenue.sort_values(by='Movie_box_office_revenue', ascending=False)\n",
    "\n",
    "plt.figure(figsize=(10, 6))\n",
    "plt.bar(language_revenue['Movie_languages_clean'][:10], language_revenue['Movie_box_office_revenue'][:10])\n",
    "plt.xlabel('Language')\n",
    "plt.ylabel('Total Box Revenue')\n",
    "plt.title('Total Box Revenue by Language')\n",
    "plt.xticks(rotation=45, ha='right')\n",
    "\n",
    "plt.show()\n",
    "language_revenue = language_revenue.sort_values(by='Movie_box_office_revenue', ascending=False)\n",
    "top_language = language_revenue.iloc[0]['Movie_languages_clean']\n",
    "top_revenue = language_revenue.iloc[0]['Movie_box_office_revenue']\n",
    "print(f\"The language that makes the most money is {top_language} with a total revenue of ${top_revenue:,}\")"
   ]
  },
  {
   "cell_type": "code",
   "execution_count": null,
   "metadata": {
    "tags": []
   },
   "outputs": [],
   "source": [
    "df_language = merged_df[['Freebase_movie_ID', 'Movie_name', 'Movie_box_office_revenue', 'Movie_languages_clean']]\n",
    "df_language = df_language.explode('Movie_languages_clean')\n",
    "language_revenue = df_language.groupby('Movie_languages_clean')['Movie_box_office_revenue'].agg(['sum', 'count']).reset_index()\n",
    "language_revenue = language_revenue.sort_values(by='sum', ascending=False)\n",
    "\n",
    "# Calculate the average revenue per movie for each language\n",
    "language_stats = df_language.groupby('Movie_languages_clean')['Movie_box_office_revenue'].agg(['sum', 'count'])\n",
    "language_stats['average_revenue_per_movie'] = language_stats['sum'] / language_stats['count']\n",
    "language_stats = language_stats.sort_values(by='average_revenue_per_movie', ascending=False)\n",
    "\n",
    "plt.figure(figsize=(10, 6))\n",
    "plt.bar(language_revenue['Movie_languages_clean'][:10], language_revenue['count'][:10])\n",
    "plt.xlabel('Language')\n",
    "plt.ylabel('Number of movies')\n",
    "plt.title('Number of movies per language')\n",
    "plt.xticks(rotation=45, ha='right')\n",
    "\n",
    "plt.show()\n"
   ]
  },
  {
   "cell_type": "markdown",
   "metadata": {},
   "source": []
  },
  {
   "cell_type": "markdown",
   "metadata": {},
   "source": [
    "## Average revenue per language"
   ]
  },
  {
   "cell_type": "code",
   "execution_count": null,
   "metadata": {
    "tags": []
   },
   "outputs": [],
   "source": [
    "df_language = merged_df[['Freebase_movie_ID', 'Movie_name', 'Movie_box_office_revenue', 'Movie_languages_clean']]\n",
    "df_language = df_language.explode('Movie_languages_clean')\n",
    "\n",
    "# Calculate the average revenue per movie for each language\n",
    "language_stats = df_language.groupby('Movie_languages_clean')['Movie_box_office_revenue'].agg(['sum', 'count'])\n",
    "language_stats['average_revenue_per_movie'] = language_stats['sum'] / language_stats['count']\n",
    "language_stats = language_stats.sort_values(by='average_revenue_per_movie', ascending=False)\n",
    "\n",
    "plt.figure(figsize=(10, 6))\n",
    "plt.bar(language_stats.index[:20], language_stats['average_revenue_per_movie'][:20])\n",
    "plt.xlabel('Language')\n",
    "plt.ylabel('Average Box Revenue per Movie')\n",
    "plt.title('Average Box Revenue per Movie by Language')\n",
    "plt.xticks(rotation=45, ha='right')\n",
    "\n",
    "\n",
    "top_language = language_stats.index[0]\n",
    "top_average_revenue = language_stats['average_revenue_per_movie'].iloc[0]\n",
    "print(f\"The language with the highest average revenue per movie is {top_language} with an average revenue of ${top_average_revenue:,.2f}\")\n"
   ]
  },
  {
   "cell_type": "code",
   "execution_count": null,
   "metadata": {
    "tags": []
   },
   "outputs": [],
   "source": [
    "total_movies_per_language = df_language['Movie_languages_clean'].value_counts()\n",
    "\n",
    "# Languages with the highest revenues\n",
    "specified_order = ['Old English language', 'Assyrian language', 'Amharic Language',\n",
    "                   'Pawnee Language', 'Nepali Language', 'Assyrian Neo-Aramaic Language',\n",
    "                   'Sinhala Language', 'Hmong language', 'Sicilian Language',\n",
    "                   'Swiss German Language', 'Xhosa Language', 'Picard Language',\n",
    "                   'Chewa language', 'Zulu Language', 'Croatian language', 'Italian',\n",
    "                   'Aramaic language', 'Krio Language', 'German', 'Sioux language']\n",
    "\n",
    "total_movies_per_language = total_movies_per_language.reindex(specified_order, fill_value=0)\n",
    "\n",
    "# Plotting the bar chart\n",
    "plt.figure(figsize=(14, 6))\n",
    "bars = total_movies_per_language.plot(kind='bar', color='skyblue')\n",
    "plt.title('Total Number of Movies for Each Language')\n",
    "plt.xlabel('Language')\n",
    "plt.ylabel('Total Number of Movies')\n",
    "plt.xticks(rotation=45, ha='right')  # Rotate x-axis labels for better readability\n",
    "\n",
    "# Adding text annotations on top of the bars\n",
    "for bar in bars.patches:\n",
    "    yval = bar.get_height()\n",
    "    plt.text(bar.get_x() + bar.get_width()/2, yval + 0.05, round(yval, 2), ha='center', va='bottom', color='black')\n",
    "\n",
    "\n",
    "plt.show()"
   ]
  },
  {
   "cell_type": "markdown",
   "metadata": {},
   "source": [
    "A lot of exotic/less known languages have the highest average revenue.\n",
    "This could be explained by the fact that exotic languages are only used rarely, in big budget movies, which brings the average revenue up, compared to more common languages that are used in a lot movies, including movies that have low box office revenue.\n",
    "\n",
    "For example, we can look at the Old English language. The only movies containing these languages are very popular ones with high budgets."
   ]
  },
  {
   "cell_type": "code",
   "execution_count": null,
   "metadata": {
    "tags": []
   },
   "outputs": [],
   "source": [
    "# Movies that used Old English\n",
    "test = df_language.explode('Movie_languages_clean')\n",
    "display(test.loc[test['Movie_languages_clean'] == 'Old English language'])"
   ]
  },
  {
   "cell_type": "code",
   "execution_count": null,
   "metadata": {
    "tags": []
   },
   "outputs": [],
   "source": [
    "import statsmodels.api as sm\n",
    "\n",
    "df_reg = merged_df[['Movie_name', 'Movie_box_office_revenue', 'Movie_languages_clean']]\n",
    "\n",
    "# Remove nans\n",
    "df_reg = df_reg.dropna()\n",
    "df_reg = df_reg.dropna(axis=1)\n",
    "\n",
    "df_reg = df_reg.explode('Movie_languages_clean', ignore_index=True)\n",
    "df_reg = df_reg.dropna(subset=['Movie_languages_clean'])\n",
    "\n",
    "df_reg['Movie_languages_clean'] = df_reg['Movie_languages_clean'].apply(lambda x: x.encode('utf-8', 'replace').decode('utf-8'))\n",
    "\n",
    "# The languages are transformed into columns representing 0 or 1 for whether the movie contains the language\n",
    "df_reg = pd.get_dummies(df_reg, columns=['Movie_languages_clean'], prefix='', prefix_sep='')\n",
    "\n",
    "\n",
    "# Perform linear regression\n",
    "X = df_reg.drop(['Movie_name', 'Movie_box_office_revenue'], axis=1)  # Features = all languages\n",
    "y = df_reg['Movie_box_office_revenue']  # y = revenue\n",
    "\n",
    "\n",
    "# Add a constant to the features (required for statsmodels) since we're not using an explicit formula\n",
    "X = sm.add_constant(X)\n",
    "\n",
    "# Fit the OLS model\n",
    "model = sm.OLS(y, X.astype(float)).fit()\n",
    "\n",
    "print(model.summary())"
   ]
  },
  {
   "cell_type": "code",
   "execution_count": null,
   "metadata": {
    "tags": []
   },
   "outputs": [],
   "source": [
    "# Extracting coefficients, p-values, and feature names\n",
    "coefficients = model.params\n",
    "p_values = model.pvalues\n",
    "features = model.params.index\n",
    "\n",
    "# Creating a DataFrame\n",
    "regression_summary = pd.DataFrame({\n",
    "    'feature': features,\n",
    "    'coefficient': coefficients,\n",
    "    'p_value': p_values\n",
    "}).reset_index(drop=True)\n",
    "\n",
    "\n",
    "# Select languages that have a high p-value from the logistic regression\n",
    "high_sig = regression_summary.loc[regression_summary['p_value'] < 0.05]\n",
    "\n",
    "# Sort the DataFrame by p-value in ascending order and select the first 3 rows\n",
    "lowest_p_values = high_sig.sort_values('p_value').head(10)\n",
    "\n",
    "# Display the result\n",
    "display(lowest_p_values)"
   ]
  },
  {
   "cell_type": "markdown",
   "metadata": {},
   "source": [
    "Our r-squared value is close to 0, indicating that the model does not explain almost any variability in the dependent variable.\n",
    "\n",
    "Most of the languages with the lowest p-value are exotic, i.e. not very commonly usede. This is in line with our previous assumption that exotic languages are associated with high revenue because they are rarely used, and mainly in high-budget movies.\n",
    "\n",
    "However, it is important to note that this is not sufficient to conclude that these languages have an impact on the revenue of a movie."
   ]
  },
  {
   "cell_type": "markdown",
   "metadata": {
    "tags": []
   },
   "source": [
    "## Q3: Which languages a country's movies have other the native one?"
   ]
  },
  {
   "cell_type": "markdown",
   "metadata": {},
   "source": [
    "In this section, we'll explore the languages found in the top three movie-producing countries, besides their respective national languages. Additionally, we'll analyze how the prevalence of languages has evolved over the years, aiming to identify any correlations with demographic changes in these countries over time."
   ]
  },
  {
   "cell_type": "code",
   "execution_count": null,
   "metadata": {},
   "outputs": [],
   "source": [
    "# Create a deep copy of the movies dataset and filter movies originating from the USA\n",
    "#df_q3 =movie_summaries.copy(deep=True)\n",
    "df_q3 =merged_df.copy(deep=True)"
   ]
  },
  {
   "cell_type": "code",
   "execution_count": null,
   "metadata": {},
   "outputs": [],
   "source": [
    "# Access the individual elements of the movie_countries_clean column, structured in lists.\n",
    "countries_explode = df_q3.explode('Movie_countries_clean')\n",
    "# Count each country and identify top 10 movie-producers\n",
    "countries_count = countries_explode.groupby(\"Movie_countries_clean\").count().sort_values(by=\"Movie_name\",ascending=False)[0:10]"
   ]
  },
  {
   "cell_type": "code",
   "execution_count": null,
   "metadata": {},
   "outputs": [],
   "source": [
    "countries_count[\"Movie_name\"]"
   ]
  },
  {
   "cell_type": "markdown",
   "metadata": {},
   "source": [
    "USA, India and UK are identified as top 3 movie producers. Therefore, we will investigate the popular languages present in these countries. For the Project Milestone 2, USA is selected to demonstrate our methods for this question."
   ]
  },
  {
   "cell_type": "code",
   "execution_count": null,
   "metadata": {},
   "outputs": [],
   "source": [
    "# filter the movies originated from the USA\n",
    "USA_df = df_q3[df_q3['Movie_countries_clean'].apply(lambda x:\"United States of America\" in x)]\n",
    "display(USA_df)"
   ]
  },
  {
   "cell_type": "code",
   "execution_count": null,
   "metadata": {},
   "outputs": [],
   "source": [
    "# Count the languages present in the American movies\n",
    "USA_lan_explode = USA_df.explode('Movie_languages_clean')\n",
    "USA_lan_count = USA_lan_explode.groupby(\"Movie_languages_clean\").count().sort_values(by=\"Movie_name\",ascending=False)\n",
    "USA_lan_count = USA_lan_count.reset_index()"
   ]
  },
  {
   "cell_type": "code",
   "execution_count": null,
   "metadata": {},
   "outputs": [],
   "source": [
    "USA_lan_count[0:10]"
   ]
  },
  {
   "cell_type": "code",
   "execution_count": null,
   "metadata": {},
   "outputs": [],
   "source": [
    "# create a horizontal bar graph with the most 10 common languages present in the American movies atop of English\n",
    "sns.set_color_codes(\"pastel\")\n",
    "ax = sns.barplot(x=\"Movie_name\", y=\"Movie_languages_clean\", data = USA_lan_count[1:11], color=\"b\")\n",
    "ax.set(xlabel='Number of Movies',ylabel='',title='10 Most Common Languages Found In American Movies')"
   ]
  },
  {
   "cell_type": "markdown",
   "metadata": {},
   "source": [
    "Let's analyze how the prevalence of Spanish has evolved over the years, as it may offer insights into demographic changes in the United States."
   ]
  },
  {
   "cell_type": "code",
   "execution_count": null,
   "metadata": {},
   "outputs": [],
   "source": [
    "# filter the American movies where Spanish is present\n",
    "Spanish_USA = USA_lan_explode[USA_lan_explode[\"Movie_languages_clean\"]==\"Spanish Language\"]\n",
    "# count the American movies with Spanish for each year\n",
    "Spanish_per_year = Spanish_USA.groupby(\"Movie_release_year\").count()[\"Movie_name\"]\n",
    "# count all American movies per year\n",
    "movies_per_year = USA_df.groupby(\"Movie_release_year\").count()[\"Movie_name\"]\n",
    "ratio = (Spanish_per_year/movies_per_year).dropna()"
   ]
  },
  {
   "cell_type": "code",
   "execution_count": null,
   "metadata": {},
   "outputs": [],
   "source": [
    "# plot the number of movies presenting Spanish in the American Film  Industry)\n",
    "plt.plot(ratio.index,ratio.values,\"-o\")\n",
    "plt.xticks(rotation=45, ha='right')\n",
    "plt.xticks(range(0, len(ratio.index), 5))\n",
    "plt.tick_params(axis='x', which='both', bottom=True,labelbottom=True)\n",
    "plt.title(\"Number of Movies Presenting Spanish in The American Film Industry\")"
   ]
  },
  {
   "cell_type": "markdown",
   "metadata": {},
   "source": [
    "Despite the fluctuations, an increasing trend can be observed until 2007, aligning with the growth of the Hispanic population in the USA. It explodes around 1990 and demonstrates an exponential increase. However, there is an abrupt decrease after 2008. It can be related to the economic crisis in 2008. This might be potentially linked to the economic crisis of that year, which may have constrained the inclusion of additional languages in movies due to budgetary constraints. Also, the decrease in the number of data after 2011 could also contribute to this trend which is shown below."
   ]
  },
  {
   "cell_type": "code",
   "execution_count": null,
   "metadata": {},
   "outputs": [],
   "source": [
    "# number of American movies between 2008 and 2013\n",
    "movies_per_year['2008':'2013']"
   ]
  },
  {
   "cell_type": "code",
   "execution_count": null,
   "metadata": {},
   "outputs": [],
   "source": [
    "# number of all movies between 2008 and 2016\n",
    "df_q3.groupby(\"Movie_release_year\").count()[\"Movie_name\"]['2008':'2016']"
   ]
  },
  {
   "cell_type": "markdown",
   "metadata": {},
   "source": [
    "## Q4: Which languages are more present in a specific genre?"
   ]
  },
  {
   "cell_type": "markdown",
   "metadata": {},
   "source": [
    "In this section, we aim to explore language diversity within different genres and see which languages are more present in which genres. We begin by looking at the general distribution of movies and genres in the dataset. Following that, we focus on the genre distribution in the most popular languages and, conversely, the language distribution in the most popular genres. Finally, we dig into specific genres like Martial Arts, Samurai, Romance, Gangster, War, and LGBT to see if there are any language patterns that support or challenge common stereotypes."
   ]
  },
  {
   "cell_type": "markdown",
   "metadata": {},
   "source": [
    "### Overall Language Distribution"
   ]
  },
  {
   "cell_type": "code",
   "execution_count": null,
   "metadata": {
    "tags": []
   },
   "outputs": [],
   "source": [
    "df_q4 = merged_df.copy(deep=True)\n",
    "# Create a dictionary to count the number of movies for each language\n",
    "language_count = {}\n",
    "\n",
    "# Iterate through the 'movie_languages_clean' column and count occurrences of each language\n",
    "for languages in df_q4['Movie_languages_clean']:\n",
    "    for language in languages:\n",
    "        if language in language_count:\n",
    "            language_count[language] += 1\n",
    "        else:\n",
    "            language_count[language] = 1"
   ]
  },
  {
   "cell_type": "code",
   "execution_count": null,
   "metadata": {
    "tags": []
   },
   "outputs": [],
   "source": [
    "# Convert the dictionary to a pandas DataFrame for easy plotting\n",
    "df_language_count = pd.DataFrame(list(language_count.items()), columns=['Language', 'Movie Count'])\n",
    "\n",
    "# Sort the DataFrame by Movie Count for better visualization\n",
    "df_language_count = df_language_count.sort_values(by='Movie Count', ascending=False)\n",
    "\n",
    "# Number of top languages that will be shown in the plot\n",
    "top_languages_count = 15  \n",
    "\n",
    "# Select the top N languages\n",
    "top_languages = df_language_count.head(top_languages_count)\n",
    "\n",
    "# Create a new row for 'Others' and sum the counts\n",
    "others_count = df_language_count.iloc[top_languages_count:]['Movie Count'].sum()\n",
    "others_row = pd.DataFrame({'Language': ['Others'], 'Movie Count': [others_count]})\n",
    "\n",
    "# Concatenate the top languages and 'Others'\n",
    "df_language_combined = pd.concat([top_languages, others_row])\n",
    "\n",
    "# Plotting a pie chart\n",
    "plt.figure(figsize=(10, 10))\n",
    "plt.pie(df_language_combined['Movie Count'], labels=df_language_combined['Language'], autopct='%1.1f%%', startangle=90, colors=plt.cm.Paired.colors)\n",
    "plt.title(f'Distribution of Top {top_languages_count} Languages by Movie Count')\n",
    "plt.show()"
   ]
  },
  {
   "cell_type": "markdown",
   "metadata": {},
   "source": [
    "The dataset shows a significant English language presence in the movies. This is a common trend in global cinema, as English is a widely spoken and understood language. This may indicate a bias toward English-language films in the dataset. As such, we will be also looking beyond English in the further analyses of langauge distributions."
   ]
  },
  {
   "cell_type": "markdown",
   "metadata": {},
   "source": [
    "### Overall Genre Distribution"
   ]
  },
  {
   "cell_type": "code",
   "execution_count": null,
   "metadata": {
    "tags": []
   },
   "outputs": [],
   "source": [
    "# genre count\n",
    "genres_count = {}\n",
    "\n",
    "for genres in df_q4['Movie_genres_clean']:\n",
    "    for genre in genres:\n",
    "        if genre in genres_count:\n",
    "            genres_count[genre] += 1\n",
    "        else:\n",
    "            genres_count[genre] = 1"
   ]
  },
  {
   "cell_type": "code",
   "execution_count": null,
   "metadata": {
    "tags": []
   },
   "outputs": [],
   "source": [
    "# Convert the dictionary to a pandas DataFrame for easy plotting\n",
    "df_genres_count = pd.DataFrame(list(genres_count.items()), columns=['Genre', 'Movie Count'])\n",
    "\n",
    "# Sort the DataFrame by Movie Count for better visualization\n",
    "df_genres_count = df_genres_count.sort_values(by='Movie Count', ascending=False)\n",
    "\n",
    "# Number of top languages that will be shown in the plot\n",
    "top_genres_count = 20  \n",
    "\n",
    "# Select the top N genres\n",
    "top_genres = df_genres_count.head(top_genres_count)\n",
    "\n",
    "# Create a new row for 'Others' and sum the counts\n",
    "others_count_genres = df_genres_count.iloc[top_genres_count:]['Movie Count'].sum()\n",
    "others_row_genres = pd.DataFrame({'Genre': ['Others'], 'Movie Count': [others_count_genres]})\n",
    "\n",
    "# Concatenate the top genres and 'Others' for the pie chart\n",
    "df_genres_combined = pd.concat([top_genres, others_row_genres])\n",
    "\n",
    "# Plotting a pie chart\n",
    "plt.figure(figsize=(15, 15))\n",
    "plt.pie(df_genres_combined['Movie Count'], labels=df_genres_combined['Genre'], autopct='%1.1f%%', startangle=90, colors=plt.cm.Paired.colors)\n",
    "plt.title(f'Distribution of Top {top_genres_count} Genres by Movie Count', fontsize=16)\n",
    "plt.show()"
   ]
  },
  {
   "cell_type": "markdown",
   "metadata": {},
   "source": [
    "We can observe that \"Drama,\" \"Comedy,\" \"Thriller,\" and \"Action\" are among the most prevalent genres. This is to be expected as these genres are popular and widely produced. The dataset covers a broad range of genres, including more niche genres like \"Space opera,\" \"Film-Opera,\" \"Ealing Comedies,\" and \"B-movie.\" (They are grouped under the \"Others\" category in the plot)"
   ]
  },
  {
   "cell_type": "markdown",
   "metadata": {},
   "source": [
    "### Genre distribution in the most popular languages"
   ]
  },
  {
   "cell_type": "code",
   "execution_count": null,
   "metadata": {
    "tags": []
   },
   "outputs": [],
   "source": [
    "# Set the Seaborn style\n",
    "sns.set(style=\"whitegrid\")\n",
    "\n",
    "# Number of languages for which we will create separate pie charts for genres\n",
    "top_languages_count_genres = 10  \n",
    "\n",
    "top_languages_genre = df_language_count.head(top_languages_count)\n",
    "\n",
    "# Number of genres to plot for each language\n",
    "top_genres_per_language = 5  \n",
    "\n",
    "# Initialize subplots dynamically based on the number of top languages\n",
    "nrows = top_languages_count_genres // 2 + top_languages_count_genres % 2  # Adjust for odd counts\n",
    "fig, axes = plt.subplots(nrows=nrows, ncols=2, figsize=(15, nrows * 7))\n",
    "fig.subplots_adjust(wspace=0.5, hspace=0.5)\n",
    "\n",
    "# Flatten the axes for easy indexing\n",
    "axes = axes.flatten()\n",
    "\n",
    "# Initialize a list to store DataFrames for each language\n",
    "dfs_genre_breakdown = []\n",
    "\n",
    "# Iterate over the top languages\n",
    "for i, language in enumerate(top_languages_genre['Language']):\n",
    "    # Filter the DataFrame for the current language\n",
    "    df_language = df_q4[df_q4['Movie_languages_clean'].apply(lambda x: language in x)]\n",
    "    \n",
    "    # Count the genres for the current language\n",
    "    genres_count_language = {}\n",
    "    for genres in df_language['Movie_genres_clean']:\n",
    "        for genre in genres:\n",
    "            if genre in genres_count_language:\n",
    "                genres_count_language[genre] += 1\n",
    "            else:\n",
    "                genres_count_language[genre] = 1\n",
    "    \n",
    "    # Convert the dictionary to a pandas DataFrame\n",
    "    df_genre_count_language = pd.DataFrame(list(genres_count_language.items()), columns=['Genre', 'Movie Count'])\n",
    "    \n",
    "    # Select the top genres and combine the rest into 'Others'\n",
    "    top_genres = df_genre_count_language.nlargest(top_genres_per_language, 'Movie Count')\n",
    "    others_count = df_genre_count_language['Movie Count'].sum() - top_genres['Movie Count'].sum()\n",
    "    others_row = pd.DataFrame({'Genre': ['Others'], 'Movie Count': [others_count]})\n",
    "    \n",
    "    # Concatenate the top genres and 'Others'\n",
    "    df_genre_count_language = pd.concat([top_genres, others_row])\n",
    "    \n",
    "    # Add the language information\n",
    "    df_genre_count_language['Language'] = language\n",
    "    \n",
    "    # Calculate the percentage of each genre\n",
    "    df_genre_count_language['Percentage'] = (df_genre_count_language['Movie Count'] / df_genre_count_language['Movie Count'].sum()) * 100\n",
    "    \n",
    "    # Append the DataFrame to the list\n",
    "    dfs_genre_breakdown.append(df_genre_count_language)\n",
    "\n",
    "\n",
    "    # Plotting pie charts for each language\n",
    "    if i < top_languages_count_genres:\n",
    "        ax = axes[i]\n",
    "        ax.pie(df_genre_count_language['Percentage'], labels=df_genre_count_language['Genre'], autopct='%1.1f%%', startangle=90, colors=sns.color_palette(\"Paired\"))\n",
    "        ax.set_title(f'Top {top_genres_per_language} Genres for {language} Movies')\n",
    "\n",
    "\n",
    "\n",
    "# Hide empty subplots\n",
    "for j in range(len(top_languages_genre['Language']), len(axes)):\n",
    "    fig.delaxes(axes[j])\n",
    "\n",
    "# Adjust layout\n",
    "plt.tight_layout()\n",
    "\n",
    "# Concatenate the DataFrames for all languages\n",
    "df_combined_genre_breakdown = pd.concat(dfs_genre_breakdown)\n",
    "\n",
    "# Show the plot\n",
    "plt.show()"
   ]
  },
  {
   "cell_type": "markdown",
   "metadata": {},
   "source": [
    "Across languages, \"Drama\" is consistently one of the top genres, indicating its widespread popularity and in line with its prevalence in the overall genre distribution. The global presence of World cinema across different language categories may reflect the process of globalization in the film industry. Furthermore, the strong representation of Bollywood with Hindi films reflects the dominant Indian film industry, known for its vibrant storytelling and musical elements, while the emphasis on Animation in Japanese films may reflect the country's global recognition in the form of anime."
   ]
  },
  {
   "cell_type": "markdown",
   "metadata": {},
   "source": [
    "### Language distribution in the most popular genres"
   ]
  },
  {
   "cell_type": "code",
   "execution_count": null,
   "metadata": {
    "tags": []
   },
   "outputs": [],
   "source": [
    "# Number of genres for which we will create separate pie charts for languages\n",
    "top_genre_count_languages = 6  \n",
    "top_genres = df_genres_count.head(top_genre_count_languages)\n",
    "\n",
    "# Number of languages to plot for each genre\n",
    "top_languages_per_genre = 5  \n",
    "\n",
    "# Initialize subplots dynamically based on the number of top genres\n",
    "nrows = top_genre_count_languages // 2 + top_genre_count_languages % 2  # Adjust for odd counts\n",
    "fig, axes = plt.subplots(nrows=nrows, ncols=2, figsize=(15, nrows * 7))\n",
    "fig.subplots_adjust(wspace=0.5, hspace=0.5)\n",
    "\n",
    "# Flatten the axes for easy indexing\n",
    "axes = axes.flatten()\n",
    "\n",
    "# Initialize a list to store DataFrames for each genre\n",
    "dfs_language_breakdown = []\n",
    "\n",
    "# Iterate over the top genres\n",
    "for i, genre in enumerate(top_genres['Genre']):\n",
    "    # Filter the DataFrame for the current genre\n",
    "    df_genre = df_q4[df_q4['Movie_genres_clean'].apply(lambda x: genre in x)]\n",
    "    \n",
    "    # Count the languages for the current genre\n",
    "    languages_count_genre = {}\n",
    "    for languages in df_genre['Movie_languages_clean']:\n",
    "        for language in languages:\n",
    "            if language in languages_count_genre:\n",
    "                languages_count_genre[language] += 1\n",
    "            else:\n",
    "                languages_count_genre[language] = 1\n",
    "    \n",
    "    # Convert the dictionary to a pandas DataFrame\n",
    "    df_language_count_genre = pd.DataFrame(list(languages_count_genre.items()), columns=['Language', 'Movie Count'])\n",
    "    \n",
    "    # Select the top languages and combine the rest into 'Others'\n",
    "    top_languages_genre = df_language_count_genre.nlargest(top_languages_per_genre, 'Movie Count')\n",
    "    others_count_genre = df_language_count_genre['Movie Count'].sum() - top_languages_genre['Movie Count'].sum()\n",
    "    others_row_genre = pd.DataFrame({'Language': ['Others'], 'Movie Count': [others_count_genre]})\n",
    "    \n",
    "    # Concatenate the top languages and 'Others'\n",
    "    df_language_count_genre = pd.concat([top_languages_genre, others_row_genre])\n",
    "    \n",
    "    # Add the genre information\n",
    "    df_language_count_genre['Genre'] = genre\n",
    "    \n",
    "    # Append the DataFrame to the list\n",
    "    dfs_language_breakdown.append(df_language_count_genre)\n",
    "    \n",
    "    # Plotting pie charts for each genre\n",
    "    if i < top_genre_count_languages:\n",
    "        ax = axes[i]\n",
    "        ax.pie(df_language_count_genre['Movie Count'], labels=df_language_count_genre['Language'], autopct='%1.1f%%', startangle=90, colors=sns.color_palette(\"Paired\"))\n",
    "        ax.set_title(f'Top {top_languages_per_genre} Languages for {genre} Movies')\n",
    "\n",
    "\n",
    "# Hide empty subplots\n",
    "for j in range(len(top_genres['Genre']), len(axes)):\n",
    "    fig.delaxes(axes[j])\n",
    "\n",
    "\n",
    "plt.tight_layout()\n",
    "plt.show()\n"
   ]
  },
  {
   "cell_type": "markdown",
   "metadata": {},
   "source": [
    "English stands out as the dominant language in all genres, which is expected given its widespread use and the substantial presence of English-language movies in the dataset. This suggests that one must look beyond english to gain deeper insights. Exploring the languages within a given genre beyond English could reveal more nuanced trends and associations between languages and genres. The strong representation of silent films within the black-and-white genre, less pronounced in other genre breakdowns, can be attributed to the historical reason as during the early years of cinema, many films were produced without sound and in black and white."
   ]
  },
  {
   "cell_type": "markdown",
   "metadata": {},
   "source": [
    "### Language distribution in some specific genres"
   ]
  },
  {
   "cell_type": "markdown",
   "metadata": {},
   "source": [
    "#### Martial Arts"
   ]
  },
  {
   "cell_type": "code",
   "execution_count": null,
   "metadata": {
    "tags": []
   },
   "outputs": [],
   "source": [
    "# Count Martial Arts Film by Language\n",
    "martial_arts_count = df_q4[df_q4['Movie_genres_clean'].apply(lambda x: 'Martial Arts Film' in x)]['Movie_languages_clean'].explode().value_counts()\n",
    "\n",
    "# Number of languages that will be represented in the plot\n",
    "threshold = 10  \n",
    "\n",
    "# Filter languages based on the threshold\n",
    "top_languages_martial = martial_arts_count.head(threshold)\n",
    "\n",
    "# Plot the bar chart\n",
    "plt.figure(figsize=(10, 5))\n",
    "top_languages_martial.plot(kind='bar', color='lightcoral')\n",
    "plt.title('Martial Arts Film Count by Language')\n",
    "plt.xlabel('Language')\n",
    "plt.ylabel('Movie Count')\n",
    "plt.xticks(rotation=45, ha='right')\n",
    "plt.show()"
   ]
  },
  {
   "cell_type": "markdown",
   "metadata": {},
   "source": [
    "While English-language martial arts films outnumber those in other languages, the genre also demonstrates strong representation of East Asian languages such as Cantonese, Standard Mandarin and Japanese. The dataset's dominance by English-language films may skew the overall counts, but the substantial presence of Asian languages reaffirms the genre's profound connection to East Asian cultures."
   ]
  },
  {
   "cell_type": "markdown",
   "metadata": {},
   "source": [
    "#### Samurai"
   ]
  },
  {
   "cell_type": "code",
   "execution_count": null,
   "metadata": {
    "tags": []
   },
   "outputs": [],
   "source": [
    "# Count Samurai cinema by Language\n",
    "samurai_count = df_q4[df_q4['Movie_genres_clean'].apply(lambda x: 'Samurai cinema' in x)]['Movie_languages_clean'].explode().value_counts()\n",
    "\n",
    "# Number of languages to be represented in the plot\n",
    "threshold = 10  \n",
    "\n",
    "# Filter languages based on the threshold\n",
    "top_languages_samurai = samurai_count.head(threshold)\n",
    "\n",
    "# Plot the bar chart\n",
    "plt.figure(figsize=(10, 5))\n",
    "top_languages_samurai.plot(kind='bar', color='lightcoral')\n",
    "plt.title('Samurai Cinema Count by Language')\n",
    "plt.xlabel('Language')\n",
    "plt.ylabel('Movie Count')\n",
    "plt.xticks(rotation=45, ha='right')\n",
    "plt.show()"
   ]
  },
  {
   "cell_type": "markdown",
   "metadata": {},
   "source": [
    "The data indicates that the presence of Japanese language is predominant in the \"Samurai cinema\" genre, aligning with the expectation that this genre is a significant part of Japan's cinematic heritage. The majority of occurrences (37 out of 46) are in the Japanese language, emphasizing the cultural specificity of the genre."
   ]
  },
  {
   "cell_type": "markdown",
   "metadata": {},
   "source": [
    "#### War"
   ]
  },
  {
   "cell_type": "code",
   "execution_count": null,
   "metadata": {
    "tags": []
   },
   "outputs": [],
   "source": [
    "# Count War films by Language\n",
    "war_film_by_language = df_q4[df_q4['Movie_genres_clean'].apply(lambda x: 'War film' in x)]['Movie_languages_clean'].explode().value_counts()\n",
    "\n",
    "# Number of languages to be represented in the plot\n",
    "threshold = 10  \n",
    "\n",
    "# Filter languages based on the threshold\n",
    "top_languages_war = war_film_by_language.head(threshold)\n",
    "\n",
    "# Plot the bar chart \n",
    "plt.figure(figsize=(10, 5))\n",
    "top_languages_war.plot(kind='bar', color='lightcoral')\n",
    "plt.title('War Film Count by Language')\n",
    "plt.xlabel('Language')\n",
    "plt.ylabel('Movie Count')\n",
    "plt.xticks(rotation=45, ha='right')\n",
    "\n",
    "plt.show()"
   ]
  },
  {
   "cell_type": "markdown",
   "metadata": {},
   "source": [
    "An interesting observation here is the lower presence of languages like Hindi and Tamil in the 'War film' genre, despite their higher representation in general movie counts. This could be due to regional preferences, especially in India, where war films may not be as favored as other genres. On the other hand, the notable increase in popularity of German language movies in this genre stands out, given its humble scale in the overall language distribution."
   ]
  },
  {
   "cell_type": "markdown",
   "metadata": {},
   "source": [
    "#### Romance"
   ]
  },
  {
   "cell_type": "code",
   "execution_count": null,
   "metadata": {
    "tags": []
   },
   "outputs": [],
   "source": [
    "# Count Romantic movies by Language\n",
    "romantic_languages = df_q4[df_q4['Movie_genres_clean'].apply(lambda x: 'Romance Film' in x or 'Romantic drama' in x)]['Movie_languages_clean'].explode().value_counts()\n",
    "\n",
    "# Number of languages to be represented in the plot\n",
    "threshold = 7  \n",
    "\n",
    "# Filter languages based on the threshold\n",
    "top_languages_romantic = romantic_languages.head(threshold)\n",
    "\n",
    "plt.figure(figsize=(10, 5))\n",
    "top_languages_romantic.plot(kind='bar', color='lightcoral')\n",
    "plt.title('Romantic Movie Count by Language')\n",
    "plt.xlabel('Language')\n",
    "plt.ylabel('Movie Count')\n",
    "plt.xticks(rotation=45, ha='right')\n",
    "\n",
    "plt.show()"
   ]
  },
  {
   "cell_type": "markdown",
   "metadata": {},
   "source": [
    "The language distribution in this genre resembles the global representation across all genres, emphasizing English dominance and higher counts for Hindi, Tamil, Spanish, and French, in alignment with the overall language breakdown."
   ]
  },
  {
   "cell_type": "markdown",
   "metadata": {},
   "source": [
    "#### Gangster"
   ]
  },
  {
   "cell_type": "code",
   "execution_count": null,
   "metadata": {
    "tags": []
   },
   "outputs": [],
   "source": [
    "# Count Gangster movies by Language\n",
    "gangster_language_diversity = df_q4[df_q4['Movie_genres_clean'].apply(lambda x: 'Gangster Film' in x)]['Movie_languages_clean'].explode().value_counts()\n",
    "\n",
    "# Number of languages to be represented in the plot\n",
    "threshold = 5  \n",
    "\n",
    "# Filter languages based on the threshold\n",
    "top_languages_gangster = gangster_language_diversity.head(threshold)\n",
    "\n",
    "# Plot the bar chart \n",
    "plt.figure(figsize=(10, 5))\n",
    "top_languages_gangster.plot(kind='bar', color='lightcoral')\n",
    "plt.title('Gangster Movie Count by Language')\n",
    "plt.xlabel('Language')\n",
    "plt.ylabel('Movie Count')\n",
    "plt.xticks(rotation=45, ha='right')\n",
    "\n",
    "plt.show()"
   ]
  },
  {
   "cell_type": "markdown",
   "metadata": {},
   "source": [
    "Looking at the data, we can observe certain stereotypical associations between Japan and gangsters, as well as Italy and gangsters, that seem to be reflected and captured in cinema. In Japanese cinema, gangster portrayals often revolve around the Yakuza, a notorious organized crime syndicate that frequently appears in Japanese gangster films Similarly, Italian cinema, especially in Hollywood, is often associated with Mafia depictions. The American Mafia, rooted in Italian organized crime, prominently features in gangster films, as seen in classics like \"The Godfather\" trilogy, portraying the Italian-American Mafia."
   ]
  },
  {
   "cell_type": "markdown",
   "metadata": {},
   "source": [
    "#### LGBT"
   ]
  },
  {
   "cell_type": "code",
   "execution_count": null,
   "metadata": {
    "tags": []
   },
   "outputs": [],
   "source": [
    "# Count LGBT-themed movies by Language\n",
    "lgbt_language_diversity = df_q4[df_q4['Movie_genres_clean'].apply(lambda x: 'LGBT' in x or 'Gay Interest' in x or 'Gay Themed' in x)]['Movie_languages_clean'].explode().value_counts()\n",
    "\n",
    "# Number of languages to be represented in the plot\n",
    "threshold = 5  \n",
    "\n",
    "# Filter languages based on the threshold\n",
    "top_languages_lgbt = lgbt_language_diversity.head(threshold)\n",
    "\n",
    "# Plot the bar chart\n",
    "plt.figure(figsize=(10, 5))\n",
    "top_languages_lgbt.plot(kind='bar', color='lightcoral')\n",
    "plt.title('LGBT Movie Count by Language')\n",
    "plt.xlabel('Language')\n",
    "plt.ylabel('Movie Count')\n",
    "plt.xticks(rotation=45, ha='right')\n",
    "plt.show()\n"
   ]
  },
  {
   "cell_type": "markdown",
   "metadata": {},
   "source": [
    "The non-presence of Hindi and Tamil languages, otherwise very much present in the general language distribution, may suggest the non-penetrance of LGBTQ themes or a lack of societal acceptance of such themes in India and other comparable developing countries."
   ]
  },
  {
   "cell_type": "code",
   "execution_count": null,
   "metadata": {},
   "outputs": [],
   "source": []
  }
 ],
 "metadata": {
  "kernelspec": {
   "display_name": "Python 3 (ipykernel)",
   "language": "python",
   "name": "python3"
  },
  "language_info": {
   "codemirror_mode": {
    "name": "ipython",
    "version": 3
   },
   "file_extension": ".py",
   "mimetype": "text/x-python",
   "name": "python",
   "nbconvert_exporter": "python",
   "pygments_lexer": "ipython3",
   "version": "3.9.18"
  }
 },
 "nbformat": 4,
 "nbformat_minor": 4
}
